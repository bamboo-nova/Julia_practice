{
 "cells": [
  {
   "cell_type": "markdown",
   "metadata": {},
   "source": [
    "## Juliaの基本\n",
    "\n",
    "ちなみにREPLでは、最後に評価された表現はansという特殊な変数に代入される(jupyterは適用されてない)"
   ]
  },
  {
   "cell_type": "code",
   "execution_count": 5,
   "metadata": {},
   "outputs": [
    {
     "data": {
      "text/plain": [
       "3"
      ]
     },
     "execution_count": 5,
     "metadata": {},
     "output_type": "execute_result"
    }
   ],
   "source": [
    "x=1\n",
    "y=2.0\n",
    "\n",
    "2x+1"
   ]
  },
  {
   "cell_type": "code",
   "execution_count": 11,
   "metadata": {},
   "outputs": [
    {
     "name": "stdout",
     "output_type": "stream",
     "text": [
      "12\n",
      "0.7853981633974483\n",
      "1.414213562373095\n"
     ]
    }
   ],
   "source": [
    "println(2(x-3)^2 - 3(x-2) + 1)\n",
    "\n",
    "# 一応、変数名にUnicodeを使うこともできる\n",
    "θ = pi/4\n",
    "println(θ)\n",
    "println(sin(θ)+cos(θ))"
   ]
  },
  {
   "cell_type": "code",
   "execution_count": 17,
   "metadata": {},
   "outputs": [
    {
     "name": "stdout",
     "output_type": "stream",
     "text": [
      "Int64\n",
      "Float64\n",
      "64\n",
      "1\n"
     ]
    }
   ],
   "source": [
    "# プリミティブ型→typeof関数で確認することができる\n",
    "println(typeof(1))\n",
    "println(typeof(2.0))\n",
    "\n",
    "# 64ビットなので、IntやUInthは64になる\n",
    "println(Sys.WORD_SIZE)\n",
    "\n",
    "# 0xの後に16進数の数字を付けて表し、数字の桁数によって自動的に決まる\n",
    "println(0x1)\n",
    "\n",
    "# 無限大はInf, -Inf(-Inf32,-Inf16などがある)。また、0/0の計算結果のように数字でないものはNaN,NaN16,NaN32が定義されてる\n",
    "\n",
    "# 任意精度浮動小数を表す型→BigFloat型やBigInt型がある\n",
    "x = 1111111111111111111111111111111111111111\n",
    "typeof(x+x)"
   ]
  },
  {
   "cell_type": "code",
   "execution_count": 21,
   "metadata": {},
   "outputs": [
    {
     "name": "stdout",
     "output_type": "stream",
     "text": [
      "π\n",
      "1.5.3\n"
     ]
    },
    {
     "ename": "LoadError",
     "evalue": "cannot declare x constant; it already has a value",
     "output_type": "error",
     "traceback": [
      "cannot declare x constant; it already has a value",
      "",
      "Stacktrace:",
      " [1] top-level scope at In[21]:6",
      " [2] include_string(::Function, ::Module, ::String, ::String) at ./loading.jl:1091"
     ]
    }
   ],
   "source": [
    "# Juliaではいくつかの定数があらかじめ定義されている\n",
    "println(pi)\n",
    "println(VERSION)\n",
    "\n",
    "# 定数\n",
    "const x = 1.0\n",
    "# 後から値を変更することができない\n",
    "x=1"
   ]
  },
  {
   "cell_type": "code",
   "execution_count": 28,
   "metadata": {},
   "outputs": [
    {
     "name": "stdout",
     "output_type": "stream",
     "text": [
      "1 + 2im\n",
      "8 + 1im\n",
      "1\n",
      "2\n",
      "1 - 2im\n",
      "2.23606797749979\n"
     ]
    }
   ],
   "source": [
    "# 複素数\n",
    "println(1 + 2im)\n",
    "println((1 + 2im)*(2 - 3im))\n",
    "println(real(1 + 2im))\n",
    "println(imag(1 + 2im))\n",
    "println(conj(1 + 2im))\n",
    "println(abs(1 + 2im))"
   ]
  },
  {
   "cell_type": "code",
   "execution_count": 33,
   "metadata": {},
   "outputs": [
    {
     "name": "stdout",
     "output_type": "stream",
     "text": [
      "H\n",
      "Char\n"
     ]
    },
    {
     "data": {
      "text/plain": [
       "'H': ASCII/Unicode U+0048 (category Lu: Letter, uppercase)"
      ]
     },
     "execution_count": 33,
     "metadata": {},
     "output_type": "execute_result"
    }
   ],
   "source": [
    "# 文字列\n",
    "s = \"Hello Julia\"\n",
    "\n",
    "# 配列の要素は1が始まりなので注意すること\n",
    "println(typeof(s[1]))\n",
    "s[1]"
   ]
  },
  {
   "cell_type": "code",
   "execution_count": 35,
   "metadata": {},
   "outputs": [
    {
     "name": "stdout",
     "output_type": "stream",
     "text": [
      "Hello\n"
     ]
    },
    {
     "data": {
      "text/plain": [
       "'a': ASCII/Unicode U+0061 (category Ll: Letter, lowercase)"
      ]
     },
     "execution_count": 35,
     "metadata": {},
     "output_type": "execute_result"
    }
   ],
   "source": [
    "# スライスや文字列の最後を取り出したりもできる\n",
    "println(s[1:5])\n",
    "s[end]"
   ]
  },
  {
   "cell_type": "code",
   "execution_count": 38,
   "metadata": {},
   "outputs": [
    {
     "name": "stdout",
     "output_type": "stream",
     "text": [
      "Hello Julia\n",
      "Hello Julia\n",
      "Hello Julia\n",
      "1 + 2 = 3\n"
     ]
    }
   ],
   "source": [
    "# 出力方法\n",
    "hello = \"Hello\";\n",
    "julia = \"Julia\";\n",
    "println(hello, \" \", julia)\n",
    "println(hello * \" \" * julia)\n",
    "println(\"$hello $julia\")\n",
    "println(\"1 + 2 = $(1 + 2)\")"
   ]
  },
  {
   "cell_type": "code",
   "execution_count": 39,
   "metadata": {},
   "outputs": [
    {
     "data": {
      "text/plain": [
       "'こ': Unicode U+3053 (category Lo: Letter, other)"
      ]
     },
     "execution_count": 39,
     "metadata": {},
     "output_type": "execute_result"
    }
   ],
   "source": [
    "# Unicode文字列\n",
    "# UTF-8は文字を可変長で符号化するので、全ての文字が同じバイト数で表現されるわけではない。\n",
    "# ASCII文字では1バイトで符号化されるが、日本語は3バイトで処理される\n",
    "\n",
    "s = \"こんにちは, Julia\";\n",
    "s[1]"
   ]
  },
  {
   "cell_type": "code",
   "execution_count": 40,
   "metadata": {},
   "outputs": [
    {
     "ename": "LoadError",
     "evalue": "StringIndexError(\"こんにちは, Julia\", 2)",
     "output_type": "error",
     "traceback": [
      "StringIndexError(\"こんにちは, Julia\", 2)",
      "",
      "Stacktrace:",
      " [1] string_index_err(::String, ::Int64) at ./strings/string.jl:12",
      " [2] getindex_continued(::String, ::Int64, ::UInt32) at ./strings/string.jl:220",
      " [3] getindex(::String, ::Int64) at ./strings/string.jl:213",
      " [4] top-level scope at In[40]:1",
      " [5] include_string(::Function, ::Module, ::String, ::String) at ./loading.jl:1091"
     ]
    }
   ],
   "source": [
    "# 先頭文字である「こ」が内部では3バイト\n",
    "s[2]"
   ]
  },
  {
   "cell_type": "code",
   "execution_count": 41,
   "metadata": {},
   "outputs": [
    {
     "data": {
      "text/plain": [
       "'ん': Unicode U+3093 (category Lo: Letter, other)"
      ]
     },
     "execution_count": 41,
     "metadata": {},
     "output_type": "execute_result"
    }
   ],
   "source": [
    "s[4]"
   ]
  },
  {
   "cell_type": "markdown",
   "metadata": {},
   "source": [
    "このように、マルチバイト文字を扱う際には、文字列に対するインデックスと、実際の文字のインデックスとが一致しないことに注意が必要\n",
    "先頭文字の次の文字インデックスはnextind関数で取得できる"
   ]
  },
  {
   "cell_type": "code",
   "execution_count": 43,
   "metadata": {},
   "outputs": [
    {
     "name": "stdout",
     "output_type": "stream",
     "text": [
      "4\n",
      "7\n"
     ]
    }
   ],
   "source": [
    "println(nextind(s,1))\n",
    "println(nextind(s,4))"
   ]
  },
  {
   "cell_type": "markdown",
   "metadata": {},
   "source": [
    "しかし、より簡便な方法として、以下のように文字列を文字の配列に変換する方法がある"
   ]
  },
  {
   "cell_type": "code",
   "execution_count": 47,
   "metadata": {},
   "outputs": [
    {
     "data": {
      "text/plain": [
       "12-element Array{Char,1}:\n",
       " 'こ': Unicode U+3053 (category Lo: Letter, other)\n",
       " 'ん': Unicode U+3093 (category Lo: Letter, other)\n",
       " 'に': Unicode U+306B (category Lo: Letter, other)\n",
       " 'ち': Unicode U+3061 (category Lo: Letter, other)\n",
       " 'は': Unicode U+306F (category Lo: Letter, other)\n",
       " ',': ASCII/Unicode U+002C (category Po: Punctuation, other)\n",
       " ' ': ASCII/Unicode U+0020 (category Zs: Separator, space)\n",
       " 'J': ASCII/Unicode U+004A (category Lu: Letter, uppercase)\n",
       " 'u': ASCII/Unicode U+0075 (category Ll: Letter, lowercase)\n",
       " 'l': ASCII/Unicode U+006C (category Ll: Letter, lowercase)\n",
       " 'i': ASCII/Unicode U+0069 (category Ll: Letter, lowercase)\n",
       " 'a': ASCII/Unicode U+0061 (category Ll: Letter, lowercase)"
      ]
     },
     "execution_count": 47,
     "metadata": {},
     "output_type": "execute_result"
    }
   ],
   "source": [
    "# Char方の一次元配列(charとは異なる)\n",
    "chars = Vector{Char}(s)"
   ]
  },
  {
   "cell_type": "code",
   "execution_count": 48,
   "metadata": {},
   "outputs": [
    {
     "data": {
      "text/plain": [
       "'こ': Unicode U+3053 (category Lo: Letter, other)"
      ]
     },
     "execution_count": 48,
     "metadata": {},
     "output_type": "execute_result"
    }
   ],
   "source": [
    "chars[1]"
   ]
  },
  {
   "cell_type": "markdown",
   "metadata": {},
   "source": [
    "### 文字列の関数"
   ]
  },
  {
   "cell_type": "code",
   "execution_count": 57,
   "metadata": {},
   "outputs": [
    {
     "name": "stdout",
     "output_type": "stream",
     "text": [
      "5\n",
      "juliajulia\n",
      "Julia is the best!\n",
      "SubString{String}[\"Julia\", \"Lang\"]\n",
      "true\n",
      "true\n",
      "Julia-Lang\n",
      "1:5\n"
     ]
    }
   ],
   "source": [
    "println(length(\"Julia\")) # 文字列の長さ\n",
    "println(repeat(\"julia\", 2)) # 文字列の繰り返し\n",
    "println(replace(\"Python is the best!\", \"Python\" => \"Julia\")) # 文字列の置換\n",
    "println(split(\"Julia-Lang\", \"-\")) # 文字列の分割\n",
    "println(startswith(\"JuliaLang\", \"Julia\")) # 文字列の先頭が特定の文字列かどうか\n",
    "println(endswith(\"JuliaLang\", \"Lang\")) # 文字列の最後が特定の文字列かどうか\n",
    "println(join([\"Julia\", \"Lang\"], \"-\")) # 区切り文字を用いた文字列の連結\n",
    "\n",
    "# 文字列の検索を行い、該当した文字列のインデックスを返す。見つからないとnothing(Nothing型を返す)\n",
    "println(findfirst(\"Julia\", \"JuliaLang\"))"
   ]
  },
  {
   "cell_type": "markdown",
   "metadata": {},
   "source": [
    "### 正規表現\n",
    "JuliaではPCRE(perl compatible regular expressions)と呼ばれる正規表現ライブラリを用いる"
   ]
  },
  {
   "cell_type": "code",
   "execution_count": 59,
   "metadata": {},
   "outputs": [
    {
     "data": {
      "text/plain": [
       "Regex"
      ]
     },
     "execution_count": 59,
     "metadata": {},
     "output_type": "execute_result"
    }
   ],
   "source": [
    "# 文字列の前にrをつけることで正規表現になる\n",
    "regex = r\"J.*g\"\n",
    "typeof(regex)"
   ]
  },
  {
   "cell_type": "code",
   "execution_count": 64,
   "metadata": {},
   "outputs": [
    {
     "name": "stdout",
     "output_type": "stream",
     "text": [
      "RegexMatch(\"JuliaLang\")\n",
      "RegexMatch\n",
      "JuliaLang\n",
      "1\n"
     ]
    }
   ],
   "source": [
    "# match関数\n",
    "# マッチしなかったら戻り値はnothingになる\n",
    "m = match(regex, \"JuliaLang is the best.\")\n",
    "println(m)\n",
    "println(typeof(m))\n",
    "println(m.match) # マッチした文字列\n",
    "println(m.offset) # マッチした位置"
   ]
  },
  {
   "cell_type": "markdown",
   "metadata": {},
   "source": [
    "### 制御構文"
   ]
  },
  {
   "cell_type": "markdown",
   "metadata": {},
   "source": [
    "#### 条件評価"
   ]
  },
  {
   "cell_type": "code",
   "execution_count": 66,
   "metadata": {},
   "outputs": [
    {
     "name": "stdout",
     "output_type": "stream",
     "text": [
      "x is greater than y\n"
     ]
    }
   ],
   "source": [
    "x=3; y=2;\n",
    "if x<y\n",
    "    println(\"x is less than y\")\n",
    "elseif x>y\n",
    "    println(\"x is greater than y\")\n",
    "else\n",
    "    println(\"x is equal to y\")\n",
    "end"
   ]
  },
  {
   "cell_type": "code",
   "execution_count": 67,
   "metadata": {},
   "outputs": [
    {
     "data": {
      "text/plain": [
       "false"
      ]
     },
     "execution_count": 67,
     "metadata": {},
     "output_type": "execute_result"
    }
   ],
   "source": [
    "# 三項演算子も使用できる\n",
    "x = 100;\n",
    "x > 100 ? true : false"
   ]
  },
  {
   "cell_type": "markdown",
   "metadata": {},
   "source": [
    "#### 短絡評価"
   ]
  },
  {
   "cell_type": "code",
   "execution_count": 76,
   "metadata": {},
   "outputs": [
    {
     "name": "stdout",
     "output_type": "stream",
     "text": [
      "false\n",
      "true\n"
     ]
    }
   ],
   "source": [
    "# a&&b は両方trueだった時にtrueを返す。aとbが両方falseの時falseを返す\n",
    "n=-10\n",
    "# nが0以上の時、エラーとしてプログラムを終了させたい場合(false)\n",
    "println(n >= 0 && error(\"n must be negative.\"))\n",
    "\n",
    "\n",
    "# a||b はどちらも偽の場合にfalseを返す\n",
    "n=1\n",
    "# nが0より小さい時にエラーとしたい場合は、以下のようにする(ture)\n",
    "println(n >= 0 || error(\"n must be non-negative\"))"
   ]
  },
  {
   "cell_type": "markdown",
   "metadata": {},
   "source": [
    "### ループ"
   ]
  },
  {
   "cell_type": "code",
   "execution_count": 77,
   "metadata": {},
   "outputs": [
    {
     "name": "stdout",
     "output_type": "stream",
     "text": [
      "1\n",
      "2\n",
      "3\n",
      "4\n",
      "5\n"
     ]
    }
   ],
   "source": [
    "i = 1;\n",
    "while i <= 5\n",
    "    println(i)\n",
    "    global i += 1\n",
    "end"
   ]
  },
  {
   "cell_type": "code",
   "execution_count": 78,
   "metadata": {},
   "outputs": [
    {
     "name": "stdout",
     "output_type": "stream",
     "text": [
      "1\n",
      "2\n",
      "3\n",
      "4\n",
      "5\n"
     ]
    }
   ],
   "source": [
    "for i = 1:5\n",
    "    println(i)\n",
    "end"
   ]
  },
  {
   "cell_type": "code",
   "execution_count": 80,
   "metadata": {},
   "outputs": [
    {
     "name": "stdout",
     "output_type": "stream",
     "text": [
      "1\n",
      "2\n"
     ]
    }
   ],
   "source": [
    "for j = 1:2\n",
    "    println(j)\n",
    "end"
   ]
  },
  {
   "cell_type": "markdown",
   "metadata": {},
   "source": [
    "### try/catch/finally\n",
    "tryの処理中に例外が発生したらcatchで、tryとcatchの処理が全て終わるとfinallyの処理が発生する"
   ]
  },
  {
   "cell_type": "code",
   "execution_count": 81,
   "metadata": {},
   "outputs": [],
   "source": [
    "try\n",
    "    i = parse(Int, str)\n",
    "catch\n",
    "    # 例外処理\n",
    "end"
   ]
  },
  {
   "cell_type": "raw",
   "metadata": {},
   "source": [
    "# open関数によってファイルを開き、operate関数で何かしらの処理が行われる\n",
    "# ファイルの処理が発生するしないに関係なく、最後にはfinallyでファイルを閉じる処理が行われる\n",
    "f = open(\"file\")\n",
    "try\n",
    "    operate(f)\n",
    "finally\n",
    "    close(f)\n",
    "end"
   ]
  },
  {
   "cell_type": "markdown",
   "metadata": {},
   "source": [
    "## 関数"
   ]
  },
  {
   "cell_type": "code",
   "execution_count": 87,
   "metadata": {},
   "outputs": [
    {
     "data": {
      "text/plain": [
       "add (generic function with 1 method)"
      ]
     },
     "execution_count": 87,
     "metadata": {},
     "output_type": "execute_result"
    }
   ],
   "source": [
    "function add(x,y)\n",
    "    # returnはあってもなくても良い。最後に評価された値が自動的に戻り値となる\n",
    "    return x + y\n",
    "end"
   ]
  },
  {
   "cell_type": "code",
   "execution_count": 88,
   "metadata": {},
   "outputs": [
    {
     "data": {
      "text/plain": [
       "7"
      ]
     },
     "execution_count": 88,
     "metadata": {},
     "output_type": "execute_result"
    }
   ],
   "source": [
    "add(3,4)"
   ]
  },
  {
   "cell_type": "code",
   "execution_count": 92,
   "metadata": {},
   "outputs": [
    {
     "name": "stdout",
     "output_type": "stream",
     "text": [
      "7\n"
     ]
    },
    {
     "ename": "LoadError",
     "evalue": "MethodError: no method matching add_typed(::Int64, ::Float64)\nClosest candidates are:\n  add_typed(::Int64, !Matched::Int64) at In[92]:2",
     "output_type": "error",
     "traceback": [
      "MethodError: no method matching add_typed(::Int64, ::Float64)\nClosest candidates are:\n  add_typed(::Int64, !Matched::Int64) at In[92]:2",
      "",
      "Stacktrace:",
      " [1] top-level scope at In[92]:4",
      " [2] include_string(::Function, ::Module, ::String, ::String) at ./loading.jl:1091"
     ]
    }
   ],
   "source": [
    "# 関数の引数に型を指定することが可能\n",
    "add_typed(x::Int, y::Int) = x + y;\n",
    "println(add_typed(3,4))\n",
    "add_typed(3,4.1) # エラーになる"
   ]
  },
  {
   "cell_type": "code",
   "execution_count": 93,
   "metadata": {},
   "outputs": [
    {
     "data": {
      "text/plain": [
       "7.0"
      ]
     },
     "execution_count": 93,
     "metadata": {},
     "output_type": "execute_result"
    }
   ],
   "source": [
    "# 関数の戻り値にも型を指定することができる\n",
    "add_typed(x::Int, y::Int)::Float64 = x + y;\n",
    "add_typed(3,4)"
   ]
  },
  {
   "cell_type": "code",
   "execution_count": 96,
   "metadata": {},
   "outputs": [
    {
     "name": "stdout",
     "output_type": "stream",
     "text": [
      "(7, -1)\n"
     ]
    },
    {
     "data": {
      "text/plain": [
       "Tuple{Int64,Int64}"
      ]
     },
     "execution_count": 96,
     "metadata": {},
     "output_type": "execute_result"
    }
   ],
   "source": [
    "# 関数の戻り値を複数にしたいとき\n",
    "sum_diff(x, y) = (x+y, x-y);\n",
    "println(sum_diff(3,4))\n",
    "typeof(ans)"
   ]
  },
  {
   "cell_type": "markdown",
   "metadata": {},
   "source": [
    "Tuple方と呼ばれており、括弧を用いて表記する"
   ]
  },
  {
   "cell_type": "markdown",
   "metadata": {},
   "source": [
    "### 可変長引数\n",
    "x...のように変数の後に...をつけることで任意の数の引数を渡すことができる"
   ]
  },
  {
   "cell_type": "code",
   "execution_count": 99,
   "metadata": {},
   "outputs": [
    {
     "name": "stdout",
     "output_type": "stream",
     "text": [
      "3\n",
      "7\n",
      "12\n"
     ]
    }
   ],
   "source": [
    "function f(x...)\n",
    "    sum = 0\n",
    "    for i=1:length(x)\n",
    "        sum += x[i]\n",
    "    end\n",
    "    sum\n",
    "    end;\n",
    "\n",
    "println(f(3))\n",
    "println(f(3,4))\n",
    "println(f(3,4,5))"
   ]
  },
  {
   "cell_type": "code",
   "execution_count": 103,
   "metadata": {},
   "outputs": [
    {
     "data": {
      "text/plain": [
       "(3, 4, 5)"
      ]
     },
     "execution_count": 103,
     "metadata": {},
     "output_type": "execute_result"
    }
   ],
   "source": [
    "# 可変長引数は、関数の最後の引数にのみ設定することができる(x..., y)とするとエラーになる\n",
    "# 二つの引数をそれぞれ可変長にすることもできないので注意\n",
    "g(x, y...) = (x, y...);\n",
    "g(3,4,5)\n",
    "\n",
    "# 可変長引数に型の注釈を与えたい時は、g(x, y::Int...)とする。"
   ]
  },
  {
   "cell_type": "markdown",
   "metadata": {},
   "source": [
    "Juliaに標準で用意されているrand関数は、以下のように可変長の引数をとり、ランダムに初期化sれた多次元配列を返す。"
   ]
  },
  {
   "cell_type": "code",
   "execution_count": 105,
   "metadata": {},
   "outputs": [
    {
     "data": {
      "text/plain": [
       "4-element Array{Float64,1}:\n",
       " 0.07392250054940352\n",
       " 0.10519485537050821\n",
       " 0.07690272138303778\n",
       " 0.8615848050819426"
      ]
     },
     "execution_count": 105,
     "metadata": {},
     "output_type": "execute_result"
    }
   ],
   "source": [
    "rand(4)"
   ]
  },
  {
   "cell_type": "code",
   "execution_count": 106,
   "metadata": {},
   "outputs": [
    {
     "data": {
      "text/plain": [
       "4×3 Array{Float64,2}:\n",
       " 0.607729  0.528655   0.645305\n",
       " 0.404833  0.997205   0.498336\n",
       " 0.03207   0.0478557  0.819231\n",
       " 0.507125  0.128659   0.971706"
      ]
     },
     "execution_count": 106,
     "metadata": {},
     "output_type": "execute_result"
    }
   ],
   "source": [
    "rand(4,3)"
   ]
  },
  {
   "cell_type": "code",
   "execution_count": 107,
   "metadata": {},
   "outputs": [
    {
     "data": {
      "text/plain": [
       "4×3×2 Array{Float64,3}:\n",
       "[:, :, 1] =\n",
       " 0.518923  0.750091  0.627041\n",
       " 0.4673    0.133748  0.626309\n",
       " 0.713443  0.301228  0.891879\n",
       " 0.821935  0.849152  0.660376\n",
       "\n",
       "[:, :, 2] =\n",
       " 0.538391  0.350123    0.19959\n",
       " 0.701414  0.627122    0.49944\n",
       " 0.140565  0.00477391  0.861372\n",
       " 0.14814   0.0688215   0.400806"
      ]
     },
     "execution_count": 107,
     "metadata": {},
     "output_type": "execute_result"
    }
   ],
   "source": [
    "rand(4,3,2)"
   ]
  },
  {
   "cell_type": "markdown",
   "metadata": {},
   "source": [
    "### オプショナル引数\n",
    "関数の引数にデフォルトの値を設定することができる。\n",
    "複数の引数を同時にオプショナル引数にすることも可能だが、それらは必ず末尾の引数に限られるので注意する必要がある\n",
    "\n",
    "f(x,y=1,z=2) = x + y + z; #OK\n",
    "\n",
    "f(x=3,y,z) = x + y + z; #NG"
   ]
  },
  {
   "cell_type": "code",
   "execution_count": 109,
   "metadata": {},
   "outputs": [
    {
     "name": "stdout",
     "output_type": "stream",
     "text": [
      "4\n",
      "7\n"
     ]
    }
   ],
   "source": [
    "f(x, y=1) = x + y;\n",
    "println(f(3))\n",
    "println(f(3,4))"
   ]
  },
  {
   "cell_type": "markdown",
   "metadata": {},
   "source": [
    "### キーワード引数"
   ]
  },
  {
   "cell_type": "code",
   "execution_count": null,
   "metadata": {},
   "outputs": [],
   "source": []
  },
  {
   "cell_type": "code",
   "execution_count": null,
   "metadata": {},
   "outputs": [],
   "source": []
  },
  {
   "cell_type": "code",
   "execution_count": null,
   "metadata": {},
   "outputs": [],
   "source": []
  },
  {
   "cell_type": "code",
   "execution_count": null,
   "metadata": {},
   "outputs": [],
   "source": []
  }
 ],
 "metadata": {
  "kernelspec": {
   "display_name": "Julia 1.5.3",
   "language": "julia",
   "name": "julia-1.5"
  },
  "language_info": {
   "file_extension": ".jl",
   "mimetype": "application/julia",
   "name": "julia",
   "version": "1.5.3"
  }
 },
 "nbformat": 4,
 "nbformat_minor": 2
}
