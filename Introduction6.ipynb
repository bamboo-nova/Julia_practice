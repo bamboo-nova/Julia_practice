{
 "cells": [
  {
   "cell_type": "markdown",
   "metadata": {},
   "source": [
    "## 線形代数\n",
    "\n",
    "線形代数に関する関数は、LinearAlgebraモジュールに含まれている。"
   ]
  },
  {
   "cell_type": "code",
   "execution_count": 1,
   "metadata": {},
   "outputs": [],
   "source": [
    "using LinearAlgebra"
   ]
  },
  {
   "cell_type": "markdown",
   "metadata": {},
   "source": [
    "### ベクトルの演算"
   ]
  },
  {
   "cell_type": "code",
   "execution_count": 5,
   "metadata": {},
   "outputs": [
    {
     "name": "stdout",
     "output_type": "stream",
     "text": [
      "32\n",
      "[1, 0, 0]\n",
      "6.0\n",
      "3.7416573867739413\n",
      "3.0\n",
      "[-0.16666666666666666, 0.3333333333333333, 0.5]\n"
     ]
    },
    {
     "data": {
      "text/plain": [
       "3-element Array{Float64,1}:\n",
       " -0.2672612419124244\n",
       "  0.5345224838248488\n",
       "  0.8017837257372732"
      ]
     },
     "execution_count": 5,
     "metadata": {},
     "output_type": "execute_result"
    }
   ],
   "source": [
    "# 内積\n",
    "println(dot([1,2,3], [4,5,6]))\n",
    "\n",
    "# 外積(ベクトル積)\n",
    "println(cross([0,1,0], [0,0,1]))\n",
    "\n",
    "v = [-1, 2, 3];\n",
    "\n",
    "# L1ノルム\n",
    "println(norm(v, 1))\n",
    "\n",
    "# L2ノルム\n",
    "println(norm(v, 2))\n",
    "\n",
    "# L∞ノルム\n",
    "println(norm(v, Inf))\n",
    "\n",
    "# L1ノルムで正規化\n",
    "println(normalize(v, 1))\n",
    "\n",
    "# L2ノルムで正規化\n",
    "normalize(v, 2)"
   ]
  },
  {
   "cell_type": "markdown",
   "metadata": {},
   "source": [
    "### 行列の演算"
   ]
  },
  {
   "cell_type": "code",
   "execution_count": 12,
   "metadata": {},
   "outputs": [
    {
     "name": "stdout",
     "output_type": "stream",
     "text": [
      "3\n",
      "104.0\n"
     ]
    },
    {
     "data": {
      "text/plain": [
       "3×3 Array{Float64,2}:\n",
       " -0.451923   0.211538    0.0865385\n",
       "  0.365385  -0.192308    0.0576923\n",
       "  0.240385   0.0576923  -0.0673077"
      ]
     },
     "execution_count": 12,
     "metadata": {},
     "output_type": "execute_result"
    }
   ],
   "source": [
    "A = [1 2 3; 4 1 6; 7 8 1]\n",
    "\n",
    "# トレース\n",
    "println(tr(A))\n",
    "\n",
    "# 行列式\n",
    "println(det(A))\n",
    "\n",
    "# 逆行列\n",
    "inv(A)"
   ]
  },
  {
   "cell_type": "code",
   "execution_count": 13,
   "metadata": {},
   "outputs": [
    {
     "name": "stdout",
     "output_type": "stream",
     "text": [
      "4.6443908991413725\n"
     ]
    },
    {
     "data": {
      "text/plain": [
       "3×3 Array{Float64,2}:\n",
       " -0.451923   0.211538    0.0865385\n",
       "  0.365385  -0.192308    0.0576923\n",
       "  0.240385   0.0576923  -0.0673077"
      ]
     },
     "execution_count": 13,
     "metadata": {},
     "output_type": "execute_result"
    }
   ],
   "source": [
    "# 行列式の対数\n",
    "println(logdet(A))\n",
    "\n",
    "# 擬似逆行列\n",
    "pinv(A)"
   ]
  },
  {
   "cell_type": "markdown",
   "metadata": {},
   "source": [
    "### 行列の種類\n",
    "\n",
    "対称行列やエルミート行列などの特殊な形に行列は、それぞれSymmetric型やHermitian型が用意されている。\n",
    "\n",
    "対称行列は、:LであればAの下三角行列に基づく対称行列に変換される.\n",
    "\n",
    "また、Juliaでサポートされている特殊な種類の行列は以下のようになる。\n",
    "\n",
    "**Symmetric:対称行列、Tridiagonal：三重対角行列、Hermitian：エルミート行列、SymTridiagonal：対称三重対角行列**\n",
    "\n",
    "**UpperTriangular:上三角行列、Bidiagonal:二重対角行列、LowerTriangular:下三角行列、Diagonal：対角行列**"
   ]
  },
  {
   "cell_type": "code",
   "execution_count": 20,
   "metadata": {},
   "outputs": [
    {
     "data": {
      "text/plain": [
       "3×3 Array{Float64,2}:\n",
       " 0.656911  0.566093  0.300474\n",
       " 0.546457  0.76541   0.61744\n",
       " 0.595951  0.285096  0.993933"
      ]
     },
     "execution_count": 20,
     "metadata": {},
     "output_type": "execute_result"
    }
   ],
   "source": [
    "A = rand(3,3)"
   ]
  },
  {
   "cell_type": "code",
   "execution_count": 21,
   "metadata": {},
   "outputs": [
    {
     "data": {
      "text/plain": [
       "3×3 Symmetric{Float64,Array{Float64,2}}:\n",
       " 0.656911  0.566093  0.300474\n",
       " 0.566093  0.76541   0.61744\n",
       " 0.300474  0.61744   0.993933"
      ]
     },
     "execution_count": 21,
     "metadata": {},
     "output_type": "execute_result"
    }
   ],
   "source": [
    "Symmetric(A)"
   ]
  },
  {
   "cell_type": "code",
   "execution_count": 22,
   "metadata": {},
   "outputs": [
    {
     "data": {
      "text/plain": [
       "3×3 Symmetric{Float64,Array{Float64,2}}:\n",
       " 0.656911  0.546457  0.595951\n",
       " 0.546457  0.76541   0.285096\n",
       " 0.595951  0.285096  0.993933"
      ]
     },
     "execution_count": 22,
     "metadata": {},
     "output_type": "execute_result"
    }
   ],
   "source": [
    "Symmetric(A, :L)"
   ]
  },
  {
   "cell_type": "code",
   "execution_count": 23,
   "metadata": {},
   "outputs": [
    {
     "data": {
      "text/plain": [
       "true"
      ]
     },
     "execution_count": 23,
     "metadata": {},
     "output_type": "execute_result"
    }
   ],
   "source": [
    "issymmetric(Symmetric(A))"
   ]
  },
  {
   "cell_type": "markdown",
   "metadata": {},
   "source": [
    "たとえば、上三角行列は以下のように作成することができる。"
   ]
  },
  {
   "cell_type": "code",
   "execution_count": 24,
   "metadata": {},
   "outputs": [
    {
     "data": {
      "text/plain": [
       "3×3 UpperTriangular{Int64,Array{Int64,2}}:\n",
       " 1  2  3\n",
       " ⋅  5  6\n",
       " ⋅  ⋅  9"
      ]
     },
     "execution_count": 24,
     "metadata": {},
     "output_type": "execute_result"
    }
   ],
   "source": [
    "A = [1 2 3; 4 5 6; 7 8 9;]\n",
    "\n",
    "UpperTriangular(A)"
   ]
  },
  {
   "cell_type": "markdown",
   "metadata": {},
   "source": [
    "### 行列分解\n",
    "Cholesky分解やLU分解など、いくつかの分解手法が知られている。それぞれの関数は、例えばcholeskyに対してcholesky!のように入力の行列を書き換えることで空間計算量を節約する関数も合わせて提供されている。\n",
    "\n",
    "**cholesky,hessenberg,lu,eigen,qr,svdなどの分解手法が提供されている**。\n",
    "\n",
    "If `F::SVD` is the factorization object, `U`, `S`, `V` and `Vt` can be obtained\n",
    "via `F.U`, `F.S`, `F.V` and `F.Vt`, such that `A = U * Diagonal(S) * Vt`.\n",
    "The singular values in `S` are sorted in descending order.\n",
    "Iterating the decomposition produces the components `U`, `S`, and `V`."
   ]
  },
  {
   "cell_type": "code",
   "execution_count": 42,
   "metadata": {},
   "outputs": [
    {
     "name": "stdout",
     "output_type": "stream",
     "text": [
      "SVD{Float32,Float32,Array{Float32,2}}\n"
     ]
    },
    {
     "data": {
      "text/plain": [
       "SVD{Float32,Float32,Array{Float32,2}}\n",
       "U factor:\n",
       "4×3 Array{Float32,2}:\n",
       " -0.539554  -0.320114   0.470634\n",
       " -0.407417  -0.668742  -0.556866\n",
       " -0.544924   0.2503     0.432837\n",
       " -0.495935   0.622624  -0.530147\n",
       "singular values:\n",
       "3-element Array{Float32,1}:\n",
       " 2.2090545\n",
       " 0.26458496\n",
       " 0.11677728\n",
       "Vt factor:\n",
       "3×3 Array{Float32,2}:\n",
       " -0.11506   -0.619689  -0.776367\n",
       "  0.285501  -0.769212   0.571666\n",
       " -0.951446  -0.155878   0.265428"
      ]
     },
     "execution_count": 42,
     "metadata": {},
     "output_type": "execute_result"
    }
   ],
   "source": [
    "A = rand(Float32, 4, 3)\n",
    "\n",
    "F = svd(A)\n",
    "\n",
    "println(typeof(F))\n",
    "\n",
    "# S,U,V,Vtの引数がある\n",
    "F"
   ]
  },
  {
   "cell_type": "markdown",
   "metadata": {},
   "source": [
    "### BLAS(basic linear algebra subprograms)\n",
    "線形代数の演算に関する標準的なAPI規格。Juliaでは、LinearAlgebra.BLASモジュールでBLASのラッパーを提供している。\n",
    "BLASは余計な処理が入って遅いことが多いので、使うことは頻繁にないと思う\n",
    "\n",
    "ここでは、gemv関数の使い方を紹介する。gemv関数は、行列とベクトルの積を計算するBLAS関数であり、行列をA,二つのベクトルをx,yとすると、$y = \\alpha * A * x + \\beta * y$を計算する。係数$\\alpha,\\beta$はそれぞれスカラーで、行列Aとベクトルyに対する重み係数である。オプションでAの転置行列を指定することも可能である。"
   ]
  },
  {
   "cell_type": "code",
   "execution_count": 43,
   "metadata": {},
   "outputs": [
    {
     "data": {
      "text/plain": [
       "2-element Array{Float64,1}:\n",
       " 14.0\n",
       " 32.0"
      ]
     },
     "execution_count": 43,
     "metadata": {},
     "output_type": "execute_result"
    }
   ],
   "source": [
    "using LinearAlgebra.BLAS\n",
    "\n",
    "A = [1.0 4.0; 2.0 5.0; 3.0 6.0]\n",
    "x = [1.0, 2.0, 3.0]\n",
    "y = [0.0, 0.0]\n",
    "\n",
    "BLAS.gemv!('T', 1.0, A, x, 1.0, y)"
   ]
  },
  {
   "cell_type": "markdown",
   "metadata": {},
   "source": [
    "## ファイル入出力\n",
    "\n",
    "ファイルの入出力とシリアライズ・デシリアライズ、XMLやJSONファイルの扱いに関して紹介する\n",
    "\n",
    "### ファイルとストリーム\n",
    "構文\n",
    "$open(filename::String, [mode::String]) -> IOStream$\n",
    "\n",
    "mode一覧\n",
    "r:read, w:write, a:append, r+ or w+:read+write, a+:read+append"
   ]
  },
  {
   "cell_type": "code",
   "execution_count": 47,
   "metadata": {},
   "outputs": [
    {
     "name": "stdout",
     "output_type": "stream",
     "text": [
      "[\"Hello Julia!\"]\n"
     ]
    }
   ],
   "source": [
    "f = open(\"input.txt\")\n",
    "# 一行ずつ読み込む\n",
    "println(readlines(f))\n",
    "close(f)"
   ]
  },
  {
   "cell_type": "code",
   "execution_count": 49,
   "metadata": {},
   "outputs": [
    {
     "name": "stdout",
     "output_type": "stream",
     "text": [
      "Hello Julia!\n"
     ]
    }
   ],
   "source": [
    "f = open(\"input.txt\")\n",
    "\n",
    "# これでも良い(一行ずつ何かしらの処理が可能)\n",
    "for line in eachline(f)\n",
    "    println(line)\n",
    "end\n",
    "\n",
    "close(f)"
   ]
  },
  {
   "cell_type": "markdown",
   "metadata": {},
   "source": [
    "#### close関数の省略\n",
    "また、以下のように処理することで、close関数を省略することができる"
   ]
  },
  {
   "cell_type": "code",
   "execution_count": 50,
   "metadata": {},
   "outputs": [
    {
     "data": {
      "text/plain": [
       "1-element Array{String,1}:\n",
       " \"Hello Julia!\""
      ]
     },
     "execution_count": 50,
     "metadata": {},
     "output_type": "execute_result"
    }
   ],
   "source": [
    "open(readlines, \"input.txt\")"
   ]
  },
  {
   "cell_type": "code",
   "execution_count": 51,
   "metadata": {},
   "outputs": [
    {
     "name": "stdout",
     "output_type": "stream",
     "text": [
      "Hello Julia!\n"
     ]
    }
   ],
   "source": [
    "open(\"input.txt\") do f\n",
    "    for line in eachline(f)\n",
    "        println(line)\n",
    "    end\n",
    "end"
   ]
  },
  {
   "cell_type": "markdown",
   "metadata": {},
   "source": [
    "#### 書き込み"
   ]
  },
  {
   "cell_type": "code",
   "execution_count": 52,
   "metadata": {},
   "outputs": [
    {
     "data": {
      "text/plain": [
       "2-element Array{String,1}:\n",
       " \"Line 1\"\n",
       " \"Line 2\""
      ]
     },
     "execution_count": 52,
     "metadata": {},
     "output_type": "execute_result"
    }
   ],
   "source": [
    "open(\"output.txt\",\"w\") do f\n",
    "    println(f, \"Line 1\")\n",
    "    println(f, \"Line 2\")\n",
    "end\n",
    "\n",
    "open(readlines, \"output.txt\")"
   ]
  },
  {
   "cell_type": "markdown",
   "metadata": {},
   "source": [
    "## シリアライズとデシリアライズ\n",
    "シリアライズとは、オブジェクトをバイトストリームに変換する処理をさす。その逆に、バイトストリームをオブジェクトに変換する処理をデシリアライズと呼ぶ。\n",
    "\n",
    "これによって、Juliaのオブジェクトをファイルとして保存したり、ファイルからオブジェクトを復元することが可能になる。Pythonでは、pickleというモジュールが標準で用意されており、Pythonのオブジェクトをバイトストリームに変換することができる。\n",
    "\n",
    "Juliaでは、標準でSerializationモジュールが提供されているのでそれを利用する。\n",
    "\n",
    "構文：\n",
    "\n",
    "$serialize(stream::IO, value)$\n",
    "\n",
    "$serialize(filename::String, value)$\n",
    "\n",
    "以下に、辞書オブジェクトをシリアライズしてファイルへ保存し、デシリアライズで復元する例を示す。"
   ]
  },
  {
   "cell_type": "code",
   "execution_count": 53,
   "metadata": {},
   "outputs": [
    {
     "data": {
      "text/plain": [
       "Dict{String,Int64} with 2 entries:\n",
       "  \"b\" => 2\n",
       "  \"a\" => 1"
      ]
     },
     "execution_count": 53,
     "metadata": {},
     "output_type": "execute_result"
    }
   ],
   "source": [
    "using Serialization\n",
    "\n",
    "dict = Dict(\"a\"=>1, \"b\"=>2)\n",
    "serialize(\"dict.dat\", dict)\n",
    "deserialize(\"dict.dat\")"
   ]
  },
  {
   "cell_type": "markdown",
   "metadata": {},
   "source": [
    "ただし、関数の中身や型の定義はシリアライズによって保存されないので、デシリアライズするときに、それあrの関数や型があらかじめ読み込まれた状態にする必要性がある、また、シリアライズとデシリアライズでJuliaのバージョンが異なっている場合、元のデータが復元されることが保証されていない。\n",
    "\n",
    "そこで、**長期間保存する場合はJLD2.jlを使用することが推奨されている**。"
   ]
  },
  {
   "cell_type": "markdown",
   "metadata": {},
   "source": [
    "## JLD2\n",
    "\n",
    "入出力に関するJuliaの主要なパッケージは、JuliaIOというGithubページにまとめられている。\n",
    "\n",
    "JLD2.jlはJuliaのオブジェクトを保存するためのパッケージである。JLD2はHDF5というフォーマットのサブセットである。HDF5は、大規模な階層データを保存するためのフォーマットとして、科学技術で広く採用されている。ちなみに、HDF5を扱うためのパッケージとしてHDF5.jlがある(こっちも有名)。\n",
    "\n",
    "JLD2を使うときは、FileIO.jlパッケージも合わせてインストールしておくと便利である。\n",
    "\n"
   ]
  },
  {
   "cell_type": "code",
   "execution_count": 54,
   "metadata": {},
   "outputs": [
    {
     "name": "stderr",
     "output_type": "stream",
     "text": [
      "┌ Info: Precompiling JLD2 [033835bb-8acc-5ee8-8aae-3f567f8a3819]\n",
      "└ @ Base loading.jl:1278\n"
     ]
    },
    {
     "data": {
      "text/plain": [
       "Dict{String,Any} with 1 entry:\n",
       "  \"data\" => [0.958513 0.206045; 0.931666 0.721322; 0.594879 0.497159]"
      ]
     },
     "execution_count": 54,
     "metadata": {},
     "output_type": "execute_result"
    }
   ],
   "source": [
    "using JLD2, FileIO\n",
    "\n",
    "data = rand(3, 2)\n",
    "\n",
    "save(\"out.jld2\", \"data\", data)\n",
    "load(\"out.jld2\")"
   ]
  },
  {
   "cell_type": "markdown",
   "metadata": {},
   "source": [
    "#### 注意\n",
    "JLD2ではHDF5と同様に、保存するデータに名前を付ける必要性があり、指定した名前のデータのみを復元することが可能である。\n",
    "\n",
    "複数のデータを保存するには$save(\"out.jld2\", Dict(\"data1\"=>data1, \"data2\"=>data2)$のように名前とデータの辞書オブジェクトを保存すれば良い"
   ]
  },
  {
   "cell_type": "markdown",
   "metadata": {},
   "source": [
    "### JSONファイルの入出力\n",
    "JSON.jlというパッケージがある"
   ]
  },
  {
   "cell_type": "code",
   "execution_count": 58,
   "metadata": {},
   "outputs": [
    {
     "data": {
      "text/plain": [
       "Dict{String,Any} with 3 entries:\n",
       "  \"name\"        => \"Yukihiro Suzuki\"\n",
       "  \"affiliation\" => Any[\"NAIST\", \"SARAH .Inc\"]\n",
       "  \"brithday\"    => \"11-11\""
      ]
     },
     "execution_count": 58,
     "metadata": {},
     "output_type": "execute_result"
    }
   ],
   "source": [
    "using JSON\n",
    "\n",
    "JSON.parsefile(\"test.json\")"
   ]
  },
  {
   "cell_type": "markdown",
   "metadata": {},
   "source": [
    "JuliaのデータをJSON形式に変換するには、Json.json関数を使用する"
   ]
  },
  {
   "cell_type": "code",
   "execution_count": 59,
   "metadata": {},
   "outputs": [
    {
     "data": {
      "text/plain": [
       "\"{\\\"name\\\":\\\"Yukihiro Suzuki\\\",\\\"affiliation\\\":[\\\"NAIST\\\",\\\"SARAH .Inc\\\"],\\\"brithday\\\":\\\"11-11\\\"}\""
      ]
     },
     "execution_count": 59,
     "metadata": {},
     "output_type": "execute_result"
    }
   ],
   "source": [
    "dict = JSON.parsefile(\"test.json\")\n",
    "JSON.json(dict)"
   ]
  },
  {
   "cell_type": "markdown",
   "metadata": {},
   "source": [
    "## XMLファイルの入出力\n",
    "\n",
    "今回はコードのみ紹介して省略する(EzXML.jlを使った事例)"
   ]
  },
  {
   "cell_type": "raw",
   "metadata": {},
   "source": [
    "using EzXML\n",
    "xml = readxml(\"test.xml\")\n",
    "xmlroot = root(xml)\n",
    "\n",
    "# 子ノードの取得\n",
    "children = elements(xmlroot)\n",
    "\n",
    "# ノードの名前の一覧を取得\n",
    "nodename.(children)\n",
    "\n",
    "# 属性の値を取得\n",
    "children[1][\"name\"]\n",
    "\n",
    "# XPathを使ったノードの検索\n",
    "nodes = findall(\"//species/text()\", xmlroot)\n",
    "nodecontent.(nodes)\n",
    "\n",
    "# 他にも、最初や最後に見つかったノードを返すfindfirst,findlast関数が存在する"
   ]
  },
  {
   "cell_type": "code",
   "execution_count": null,
   "metadata": {},
   "outputs": [],
   "source": []
  }
 ],
 "metadata": {
  "kernelspec": {
   "display_name": "Julia 1.5.3",
   "language": "julia",
   "name": "julia-1.5"
  },
  "language_info": {
   "file_extension": ".jl",
   "mimetype": "application/julia",
   "name": "julia",
   "version": "1.5.3"
  }
 },
 "nbformat": 4,
 "nbformat_minor": 2
}
