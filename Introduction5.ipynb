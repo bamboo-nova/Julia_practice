{
 "cells": [
  {
   "cell_type": "markdown",
   "metadata": {},
   "source": [
    "## パッケージ\n",
    "\n",
    "ソフトウェアを再利用可能な形で配布する単位。\n",
    "\n",
    "### パッケージ管理の基本\n",
    "\n",
    "Juliaには、標準でパッケージ管理ツールが同封されている。**パッケージ管理はJuliaのREPLで行うことが多い**。\n",
    "\n",
    "\\]を入力するとパッケージ管理モードに移行する\n",
    "\n",
    "statusコマンドで、現在インストールされている外部パッケージの状態を確認することができる。\n",
    "\n",
    "add Distributionsなどのように**addコマンドでパッケージを追加する**。出力メッセージをみると**Project.tomlとManifest.tomlファイルが更新されている。これらのファイルはインストールされたパッケージの情報を管理する重要なファイルである**。\n",
    "\n",
    "また、**インストールしたパッケージを削除するには、パッケージ管理モードでremoveコマンド(短縮形は、rm)を実行する**\n",
    "\n",
    "以前インストールしたパッケージを更新したい場合はupdate(短縮形は、up)を用いる。引数を渡さずに使用すると、インストールされている全てのパッケージをアップデートしようとする。\n",
    "\n",
    "逆に、特定のパッケージをなんらかの理由でアップデートしたくない場合は、pinコマンドでパッケージのバージョンを固定する。pinコマンドで固定したバージョンは、freeコマンドで固定を解除できる。また、gcコマンドを使用するおt、パッケージの追加や削除、更新の繰り返しで発生した不要なデータが蓄積した時に自動的に削除してくれる。\n"
   ]
  },
  {
   "cell_type": "markdown",
   "metadata": {},
   "source": [
    "### プロジェクトのパッケージ管理\n",
    "\n",
    "Project.toml→現在のプロジェクトが依存してるパッケージを管理するファイル。このファイルの中にはプロジェクト自体のメタデータや依存パッケージの一覧がある。\n",
    "\n",
    "Manifest.toml→実際に使われるパッケージの正確なバージョンやインストール場所を管理するファイル。パッケージマネージャがProject.tomlファイルに記述された依存パッケージの一覧を元に依存解決をして生成する。つまり、Manifest.tomlファイルは、Juliaの実行時にどのパッケージが実際に使用されるかを厳密に指定する。\n",
    "\n",
    "Project.tomlは人が読み書きするファイルだが、Manifest.tomlはJuliaのパッケージマネージャが自動的に生成するファイルなのでユーザが読み書きする必要性がない。\n",
    "\n",
    "では、これら二つのファイルを使って実際にプロジェクトのパッケージ管理をしてみる。"
   ]
  },
  {
   "cell_type": "markdown",
   "metadata": {},
   "source": [
    "#### プロジェクトのパッケージ管理\n",
    "\n",
    "まず、~/workspace/myprojectというディレクトリを作成して、Project.tomlを作成する"
   ]
  },
  {
   "cell_type": "raw",
   "metadata": {},
   "source": [
    "# Project.toml\n",
    "name = \"myproject\""
   ]
  },
  {
   "cell_type": "markdown",
   "metadata": {},
   "source": [
    "プロジェクト毎にパッケージ管理を有効にするには、パッケージ管理モードでactivateコマンドを実行する。具体的には、以下のようにactivate .で現在のディレクトリをプロジェクトとして有効化する。\n",
    "\n",
    "例：\n",
    "\n",
    "・対象のディレクトリでproject.tomlを作成する。そして、対象のディレクトリでjulia -qを叩く\n",
    "\n",
    "・pkg>の状態でactivate .を実行して現在のディレクトリをプロジェクトとして有効化する→(myproject) pkg>となる\n",
    "\n",
    "・statusを実行すると何のパッケージもインストールされていないことがわかる\n",
    "\n",
    "・ここからaddコマンドでパッケージを追加すると、現在のプロジェクトに依存パッケージとして追加される\n",
    "\n",
    "・作成したproject.tomlファイルの内容を確認してみると、追加したパッケージが追記される\n",
    "\n",
    "project.tomlで追加したパッケージの右側にある文字列はUUIDと呼ばれるパッケージを識別するための識別子である。UUIDは覚えづらいので、addコマンドで管理するのが良い。\n",
    "\n",
    "Project.tomlファイルの更新と同時にManifest.tomlファイルも作成される。\n",
    "\n",
    "また、juliaコマンドを実行するときに、オプションとして$--project=@.$を指定すると、現在のディレクトリにあるプロジェクトを有効化して実行される。\n",
    "\n",
    "例えば、下記のコードをtest.jlとした時に、$julia --project=@. test.jl$とすれば良い。"
   ]
  },
  {
   "cell_type": "raw",
   "metadata": {},
   "source": [
    "using Distributions\n",
    "println(\"OK\")"
   ]
  },
  {
   "cell_type": "markdown",
   "metadata": {},
   "source": [
    "## パッケージの作成\n",
    "\n",
    "Juliaのパッケージは、ディレクトリの中である決まった構造を取る必要性がある。この構造を守らないと、パッケージとして正しく動かないので注意する必要性がある。\n",
    "\n",
    "・**README.mdファイル**：パッケージの概要を説明するファイル\n",
    "\n",
    "・**LICENSEファイル**：配布しているソースコードのライセンスを指定するファイル\n",
    "\n",
    "・**Project.toml**：パッケージのメタ情報や依存パッケージを記述するファイル\n",
    "\n",
    "・**srcディレクトリ**：ソースコードを収めるディレクトリ\n",
    "\n",
    "・**testディレクトリ**：テストコードを収めるディレクトリ\n",
    "\n",
    "・**docsディレクトリ**：ドキュメントを収めるディレクトリ\n",
    "\n",
    "Project.tomlファイルとsrcディレクトリは、パッケージには必須である。srcディレクトリには、そのパッケージと同じ名前のJuliaソースコードファイル(例えば、Example.jlというパッケージならExample.jlファイル)が収められている。\n",
    "\n",
    "Licenseファイルやdocsディレクトリなどは必須ではないが、パッケージを公式パッケージとして登録する際に要求されるので、あらかじめ用意しておくのが望ましい。他にもパッケージの依存ライブラリやビルドスクリプトを収めるdepsディレクトリや、継続的インテグレーションのための設定ファイルなどがあることが望ましい。\n",
    "\n",
    "今回は、My-Package.jlという簡単なパッケージを作成する。今回は、~/workspace/MyPackageで作成する。\n",
    "\n",
    "・~/workspaceディレクトリに移動して、juliaのパッケージ管理モードに移行する。\n",
    "\n",
    "・**generate MyPackageコマンド**を実行すると、~workspace/MyPackageディレクトリが作成される。その中にProject.tomlファイルとsrc/MyPacage.jlファイルが作成される。\n",
    "\n",
    "注意：生成されたファイルの中身を確認すると、パッケージのUUIDは毎回変わるので心配ない\n",
    "\n",
    "・自動生成されたパッケージはすぐに試すことができ、--projectオプションを使ってREPLを起動する。試しに、下記のMyPackage.jlを作成し、usingを使って検証することができる。また、**依存パッケージの追加はaddコマンドを用いるが、Statistics.jlなどの標準ライブラリにあるパッケージでもBase以外はaddコマンドで追加する必要があるので注意が必要である**。また、他のユーザーがパッケージをインストールする場合は、作成したパッケージの依存ライブラリをproject.tomlを参照して自動的にインストールするような仕組みになっている。"
   ]
  },
  {
   "cell_type": "code",
   "execution_count": null,
   "metadata": {},
   "outputs": [],
   "source": []
  },
  {
   "cell_type": "code",
   "execution_count": null,
   "metadata": {},
   "outputs": [],
   "source": []
  },
  {
   "cell_type": "code",
   "execution_count": null,
   "metadata": {},
   "outputs": [],
   "source": []
  },
  {
   "cell_type": "code",
   "execution_count": null,
   "metadata": {},
   "outputs": [],
   "source": []
  }
 ],
 "metadata": {
  "kernelspec": {
   "display_name": "Julia 1.5.3",
   "language": "julia",
   "name": "julia-1.5"
  },
  "language_info": {
   "file_extension": ".jl",
   "mimetype": "application/julia",
   "name": "julia",
   "version": "1.5.3"
  }
 },
 "nbformat": 4,
 "nbformat_minor": 2
}
