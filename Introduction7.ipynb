{
 "cells": [
  {
   "cell_type": "markdown",
   "metadata": {},
   "source": [
    "## 可視化(Qiita記事参照)\n",
    "数値データを手っ取り早く可視化するなら、現状**PlotsかMakie**の二択が有力\n",
    "\n",
    "今回はPlotsを使用する。特徴としては、**複数のバックエンドを、ほぼ単一の記述で扱うことができる**点がある。\n",
    "\n",
    "様々な特徴の可視化パッケージを、それぞれ個別に関数・記法を覚えていては無駄が多いので、フロントエンドとしてPlotsで仕様を吸収し、それらの使用を気にすることなくバックエンドを扱うことができる。"
   ]
  },
  {
   "cell_type": "markdown",
   "metadata": {},
   "source": [
    "### バックエンド\n",
    "扱える可視化パッケージ\n",
    "\n",
    "・GR→デフォルト・軽い\n",
    "\n",
    "・Plotly/PlotlyJS→綺麗・インタラクティブ(ブラウザ表示)\n",
    "\n",
    "・PyPlot→綺麗・インタラクティブ、PyCallを使ったMatplotlib\n",
    "\n",
    "・PGFPlotsX→Texによるグラフ生成(ただし、pkg以外に必要条件が複数あるので面倒)\n",
    "\n",
    "・InspecterDR→REPL上でCUI表示、そりゃ軽い\n",
    "\n",
    "・HDF5→表示ではなく「.hdf5」形式で可視化データをファイル操作する\n",
    "\n",
    "普段用ならGR, 見た目綺麗でPyPlot, 3Dでぐりぐり動かしたいならPlotly\n",
    "\n",
    "準備は、add Plotsで良い(さらにGRを除く他のバックエンドが必要なら、PyPlotなど)"
   ]
  },
  {
   "cell_type": "code",
   "execution_count": null,
   "metadata": {},
   "outputs": [],
   "source": []
  },
  {
   "cell_type": "code",
   "execution_count": null,
   "metadata": {},
   "outputs": [],
   "source": []
  },
  {
   "cell_type": "code",
   "execution_count": null,
   "metadata": {},
   "outputs": [],
   "source": []
  },
  {
   "cell_type": "code",
   "execution_count": null,
   "metadata": {},
   "outputs": [],
   "source": []
  }
 ],
 "metadata": {
  "kernelspec": {
   "display_name": "Julia 1.5.3",
   "language": "julia",
   "name": "julia-1.5"
  },
  "language_info": {
   "file_extension": ".jl",
   "mimetype": "application/julia",
   "name": "julia",
   "version": "1.5.3"
  }
 },
 "nbformat": 4,
 "nbformat_minor": 2
}
