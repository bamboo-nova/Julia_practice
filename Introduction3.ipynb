{
 "cells": [
  {
   "cell_type": "markdown",
   "metadata": {},
   "source": [
    "## 多次元配列\n",
    "Juliaでは、**Array{T,N}という多次元配列が標準で用意されており、Tは多次元配列の要素の型、Nは次元数を示す。**\n",
    "JuliaのArray型は**MATLABの多次元配列と似ており、関数名もMATLABと同じものになっているのが多い。**\n",
    "\n",
    "#### pythonのNumpyとの違い\n",
    "Numpyはインデックスが0から始まり、要素の順番はデフォルトでrow-major orderである。一方で、Juliaの多次元配列は、インデックスが1で始まり、要素の順番は**column-major order**である。\n",
    "\n",
    "また、pythonのNumpyではarray型が多次元配列で、それとは別に線形代数演算のためにmatrix型というarray型のサブクラスが用意されている。一方で、Juliaの配列は全てArray{T,N}で統一されている。Vector{T}型とMatrix{T}型も存在するが、それぞれArray{T,1}, Array{T,2}の単なるエイリアスでしかない。\n",
    "\n",
    "そして、Juliaはcolumn-major-orderであるため、行列の場合、**同じ列の要素を順番に列挙するのは極めて高速であるが、同じ行の要素を順番に列挙するのはあまり効率的ではない。**\n",
    "\n",
    "また、前回のイントロでも紹介したように、Juliaでは慣用的に最後の関数名に!をつけたものは引数のすべてまたは一部を変更あるいは破棄することを示している。例えば、**sort関数は引数の配列を並び替えた新しい配列を返すが、sort!関数は引数の配列の中身を変更して並び替える。**"
   ]
  },
  {
   "cell_type": "markdown",
   "metadata": {},
   "source": [
    "### 初期化"
   ]
  },
  {
   "cell_type": "code",
   "execution_count": 3,
   "metadata": {},
   "outputs": [
    {
     "name": "stdout",
     "output_type": "stream",
     "text": [
      "Float32[0.0 0.0; 0.0 0.0; 1.0f-45 0.0]\n",
      "Float32[0.0 0.0; 0.0 0.0; 0.0 0.0]\n",
      "Float32[1.0 1.0; 1.0 1.0; 1.0 1.0]\n",
      "Float32[0.5152792 0.6615696; 0.29816592 0.38493788; 0.085704565 0.66170585]\n",
      "Float32[2.3521376 0.055408146; 0.2969087 2.3363855; 1.7175344 1.3405255]\n",
      "[1.1 1.1; 1.1 1.1; 1.1 1.1]\n",
      "Float32[9.611649f-26 1.0f-45; 1.0f-45 4.1007285f-21; 3.394806f-20 1.0f-45]\n",
      "[0.0 1.0e-323; 5.0e-324 5.0e-324; 2.372230349e-314 2.3722303495e-314]\n",
      "Float32[0.77725506 0.33722687; 0.79548883 0.5556512; 0.15761924 0.6114229]\n"
     ]
    }
   ],
   "source": [
    "# 値が初期化されていない配列\n",
    "println(Array{Float32}(undef, 3, 2))\n",
    "\n",
    "# 0で初期化\n",
    "println(zeros(Float32, 3, 2))\n",
    "\n",
    "# 1で初期化\n",
    "println(ones(Float32, 3, 2))\n",
    "\n",
    "# 一様分布で初期化された配列\n",
    "println(rand(Float32, 3, 2))\n",
    "\n",
    "# 正規分布で初期化された配列\n",
    "println(randn(Float32, 3, 2))\n",
    "\n",
    "# 値を1.1で初期化\n",
    "println(fill(1.1, 3, 2))\n",
    "\n",
    "# 配列と類似した配列(値は初期化されていない)\n",
    "A = rand(Float32, 3, 2)\n",
    "println(similar(A))\n",
    "println(similar(A, Float64))\n",
    "\n",
    "# 配列のサイズを変更\n",
    "A = rand(Float32, 3, 2)\n",
    "println(reshape(A, 3, 2))"
   ]
  },
  {
   "cell_type": "markdown",
   "metadata": {},
   "source": [
    "copy(A)は、配列Aをコピーするが、要素自体を再起的にコピーすることはできない。要素がInt型やFloat64型などのプリミティブ型であれば、copy(A)で十分。\n",
    "\n",
    "ただし、中身が複合型で中身も含めて完全にコピーしたい場合はdeepcopy(A)を使用する。"
   ]
  },
  {
   "cell_type": "markdown",
   "metadata": {},
   "source": [
    "### 基本的な操作"
   ]
  },
  {
   "cell_type": "code",
   "execution_count": 6,
   "metadata": {},
   "outputs": [
    {
     "name": "stdout",
     "output_type": "stream",
     "text": [
      "Float32\n",
      "6\n",
      "2\n",
      "(3, 2)3\n",
      "(1, 3)3\n"
     ]
    }
   ],
   "source": [
    "A = rand(Float32, 3, 2)\n",
    "\n",
    "# 配列の要素の型\n",
    "println(eltype(A))\n",
    "\n",
    "# 配列の要素数\n",
    "println(length(A))\n",
    "\n",
    "# 配列の次元数\n",
    "println(ndims(A))\n",
    "\n",
    "# 配列のサイズ\n",
    "println(size(A), size(A, 1))\n",
    "\n",
    "# 配列のストライド\n",
    "println(strides(A), stride(A, 2))"
   ]
  },
  {
   "cell_type": "markdown",
   "metadata": {},
   "source": [
    "### インデクシング\n",
    "配列の値を取得したり代入するための操作"
   ]
  },
  {
   "cell_type": "code",
   "execution_count": 9,
   "metadata": {},
   "outputs": [
    {
     "name": "stdout",
     "output_type": "stream",
     "text": [
      "[1 4 7; 2 5 8; 3 6 9]\n"
     ]
    },
    {
     "data": {
      "text/plain": [
       "3×3 Array{Int64,2}:\n",
       " -1  -4   7\n",
       " -2  -5   8\n",
       "  3   6  -9"
      ]
     },
     "execution_count": 9,
     "metadata": {},
     "output_type": "execute_result"
    }
   ],
   "source": [
    "A = collect(reshape(1:9, 3, 3))\n",
    "println(A)\n",
    "\n",
    "A[3, 3] = -9;\n",
    "\n",
    "A[1:2, 1:2] = [-1 -4; -2 -5];\n",
    "\n",
    "A"
   ]
  },
  {
   "cell_type": "markdown",
   "metadata": {},
   "source": [
    "### 多次元配列の演算\n",
    "A+B, A-B, A*B, A/Bなどの演算が提供されているが、これがA.+B,A.-B,A.*Bになると要素同士の加算や乗算になる。"
   ]
  },
  {
   "cell_type": "markdown",
   "metadata": {},
   "source": [
    "### ブロードキャスティング\n",
    "ブロードキャスティングは、サイズが異なる配列同士の演算を効率的に実行する仕組みである。"
   ]
  },
  {
   "cell_type": "code",
   "execution_count": 13,
   "metadata": {},
   "outputs": [
    {
     "data": {
      "text/plain": [
       "100×100 Array{Float32,2}:\n",
       " 1.66667  1.23236  1.42783  1.89919  …  1.40313  1.66356  1.30728  1.8893\n",
       " 1.9107   1.78068  1.72072  1.60574     1.66235  1.00362  1.57327  1.30361\n",
       " 1.55334  1.9741   1.86078  1.3759      1.47176  1.95632  1.80109  1.20698\n",
       " 1.90323  1.55908  1.06174  1.23948     1.01975  1.84608  1.70055  1.72817\n",
       " 1.39048  1.94447  1.10119  1.36478     1.27268  1.46819  1.16011  1.05644\n",
       " 1.08242  1.64313  1.27739  1.25334  …  1.51736  1.58382  1.75486  1.18578\n",
       " 1.33217  1.28345  1.71584  1.46547     1.45982  1.73028  1.47121  1.13048\n",
       " 1.56387  1.70982  1.78385  1.75339     1.84996  1.20207  1.71935  1.24044\n",
       " 1.76981  1.42385  1.85057  1.0488      1.05462  1.15056  1.92824  1.60645\n",
       " 1.25484  1.6049   1.16261  1.72645     1.97218  1.91303  1.15041  1.34747\n",
       " 1.26116  1.04424  1.69884  1.70067  …  1.99687  1.02356  1.87117  1.52424\n",
       " 1.86628  1.84793  1.44121  1.07886     1.87287  1.83397  1.96833  1.15817\n",
       " 1.5583   1.63687  1.43468  1.00855     1.64319  1.05892  1.58577  1.23311\n",
       " ⋮                                   ⋱                             \n",
       " 1.52367  1.59757  1.35379  1.82243     1.85646  1.79762  1.22308  1.6386\n",
       " 1.83436  1.64969  1.90513  1.20542     1.94598  1.90958  1.1904   1.55772\n",
       " 1.40552  1.31323  1.94623  1.96515  …  1.31942  1.78642  1.07194  1.99286\n",
       " 1.13688  1.73664  1.77269  1.34063     1.39977  1.14451  1.49976  1.0091\n",
       " 1.98893  1.12238  1.19065  1.6405      1.45435  1.93662  1.12043  1.41316\n",
       " 1.15432  1.03426  1.55318  1.74481     1.83572  1.65349  1.24927  1.49972\n",
       " 1.04232  1.72524  1.70155  1.15602     1.15908  1.76866  1.31732  1.59558\n",
       " 1.19958  1.47573  1.4336   1.13003  …  1.52187  1.46604  1.05218  1.75833\n",
       " 1.44977  1.83668  1.22215  1.2574      1.27235  1.70049  1.56462  1.37884\n",
       " 1.98911  1.50664  1.04921  1.84184     1.95017  1.453    1.7408   1.13755\n",
       " 1.53662  1.31471  1.84525  1.34576     1.04426  1.4662   1.64938  1.24693\n",
       " 1.66995  1.38577  1.30065  1.54133     1.51228  1.99941  1.64463  1.62062"
      ]
     },
     "execution_count": 13,
     "metadata": {},
     "output_type": "execute_result"
    }
   ],
   "source": [
    "# 非効率的なやり方\n",
    "A = rand(Float32, 100, 100)\n",
    "B = ones(Float32, 100, 100)\n",
    "A+B;\n",
    "\n",
    "# 効率的なやり方(numpyだと自動でブロードキャストしてくれてたが、juliaは明示的に行う必要性がある)\n",
    "A = rand(Float32, 100, 100)\n",
    "A .+ 1"
   ]
  },
  {
   "cell_type": "code",
   "execution_count": 14,
   "metadata": {},
   "outputs": [
    {
     "data": {
      "text/plain": [
       "3×3 Array{Float32,2}:\n",
       " 1.30396  1.55344  1.53307\n",
       " 1.40673  1.34212  1.43025\n",
       " 1.45862  1.14164  1.36936"
      ]
     },
     "execution_count": 14,
     "metadata": {},
     "output_type": "execute_result"
    }
   ],
   "source": [
    "# また、行列の各行に行ベクトルを加算する場合にもブロードキャスティングを適用できる\n",
    "A = rand(Float32, 3, 3)\n",
    "\n",
    "B = ones(Float32, 3, 3)\n",
    "\n",
    "A.+ B"
   ]
  },
  {
   "cell_type": "markdown",
   "metadata": {},
   "source": [
    "上記の例では、Bのベクトルが自動的にAのサイズに拡張されて加算が実行されている。ちなみに、ブロードキャスティングできる条件は、\n",
    "\n",
    "・配列同士の各次元の大きさが同じ\n",
    "\n",
    "あるいは\n",
    "\n",
    "・次元の大きさが異なる場合、片方のサイズが1\n",
    "\n",
    "のどちらかのケースに限られる。また、ブロードキャスティングを行う関数としてbroadcast関数と broadcast!関数が用意されている。実際に、先程のA .+ Bと言う演算は、以下のbroadcastと同じ"
   ]
  },
  {
   "cell_type": "code",
   "execution_count": 15,
   "metadata": {},
   "outputs": [
    {
     "data": {
      "text/plain": [
       "3×3 Array{Float32,2}:\n",
       " 1.30396  1.55344  1.53307\n",
       " 1.40673  1.34212  1.43025\n",
       " 1.45862  1.14164  1.36936"
      ]
     },
     "execution_count": 15,
     "metadata": {},
     "output_type": "execute_result"
    }
   ],
   "source": [
    "# broadcast(f, args...)という構文になっており、argsを可変長引数として取っている。\n",
    "broadcast(+, A, B)"
   ]
  },
  {
   "cell_type": "markdown",
   "metadata": {},
   "source": [
    "また、broadcastはf(args...)をf.(args...)と変更するだけで手軽にブロードキャストできる。また、argsは配列に限定されず、タプルなど他のコレクションにも適用可能である(**ドット演算**と呼ぶ)"
   ]
  },
  {
   "cell_type": "code",
   "execution_count": 22,
   "metadata": {},
   "outputs": [
    {
     "name": "stdout",
     "output_type": "stream",
     "text": [
      "0.5\n",
      "0.7310585786300049\n"
     ]
    },
    {
     "data": {
      "text/plain": [
       "3×2 Array{Float64,2}:\n",
       " 0.517282  0.581058\n",
       " 0.652537  0.605759\n",
       " 0.636362  0.507583"
      ]
     },
     "execution_count": 22,
     "metadata": {},
     "output_type": "execute_result"
    }
   ],
   "source": [
    "sigmoid(x::Float64) = 1.0 / (1.0 + exp(-x));\n",
    "println(sigmoid(0.0))\n",
    "println(sigmoid(1.0))\n",
    "\n",
    "# sigmoidがFloat64なので、Float64で宣言しないとエラーになるので注意。型が定義されてなければ自動で対応する\n",
    "A = rand(Float64, 3, 2)\n",
    "sigmoid.(A)"
   ]
  },
  {
   "cell_type": "markdown",
   "metadata": {},
   "source": [
    "別の方法としてmap(sigmoid, A)とする方法もあるが、簡潔な場合はドット演算を使った方が良い"
   ]
  },
  {
   "cell_type": "markdown",
   "metadata": {},
   "source": [
    "### map, reduce, filter\n",
    "\n",
    "配列の各要素に関数を適用して値を変換したり、集約したり、フィルタリングするにはmap, reduce, filterなどの関数を使用するのが便利\n",
    "\n",
    "map: コレクションの要素を変換する関数\n",
    "\n",
    "reduce:コレクションの要素を集約する関数\n",
    "\n",
    "filter:コレクションの要素に対する条件評価を行うための関数"
   ]
  },
  {
   "cell_type": "code",
   "execution_count": 23,
   "metadata": {},
   "outputs": [
    {
     "data": {
      "text/plain": [
       "5-element Array{Float64,1}:\n",
       " 0.1850654834826575\n",
       " 0.14926308983701952\n",
       " 0.464651661631553\n",
       " 0.17666649462980089\n",
       " 0.005888566740722467"
      ]
     },
     "execution_count": 23,
     "metadata": {},
     "output_type": "execute_result"
    }
   ],
   "source": [
    "A = rand(3, 2)\n",
    "map(x -> x + 1.0, A)\n",
    "\n",
    "# 全ての要素の積\n",
    "reduce(*, A)\n",
    "\n",
    "filter(x -> x < 0.5, A)"
   ]
  },
  {
   "cell_type": "markdown",
   "metadata": {},
   "source": [
    "### サブ配列\n",
    "配列の一部を表すためのオブジェクト。view関数を使って、配列からサブ配列を作成できる"
   ]
  },
  {
   "cell_type": "code",
   "execution_count": 24,
   "metadata": {},
   "outputs": [
    {
     "data": {
      "text/plain": [
       "2-element view(::Array{Float64,2}, 1, 2:3) with eltype Float64:\n",
       " 0.9880904283482446\n",
       " 0.8703247014037034"
      ]
     },
     "execution_count": 24,
     "metadata": {},
     "output_type": "execute_result"
    }
   ],
   "source": [
    "A = rand(3, 3)\n",
    "\n",
    "view(A, 1, 2:3)"
   ]
  },
  {
   "cell_type": "code",
   "execution_count": 26,
   "metadata": {},
   "outputs": [
    {
     "data": {
      "text/plain": [
       "2×3 view(::Array{Float64,2}, 1:2, :) with eltype Float64:\n",
       " 0.685776  0.98809   0.870325\n",
       " 0.499433  0.590099  0.581659"
      ]
     },
     "execution_count": 26,
     "metadata": {},
     "output_type": "execute_result"
    }
   ],
   "source": [
    "view(A, 1:2, :)"
   ]
  },
  {
   "cell_type": "markdown",
   "metadata": {},
   "source": [
    "Aから作成したサブ配列は、**Aへの参照とインデックスの情報を保持しており、値を直接保持しているわけではない。**\n",
    "よって、Aの中身が変更されると、それに応じてサブ配列の値も変更される。\n",
    "\n",
    "サブ配列の利点は参照情報しか持たないため、巨大な配列から一部を取り出すような状況でも非常に効率的であるという点である。また、Juliaの配列に関する多くの関数はサブ配列にも対応しているため、巨大な配列の一部を一時的に取り出して計算を行うときはサブ配列の方が良い(しかし、巨大な配列でない限りはインデクシングの方が早いことも多い)"
   ]
  },
  {
   "cell_type": "markdown",
   "metadata": {},
   "source": [
    "## モジュール\n",
    "\n",
    "ソースコードが大きくなってくると、意図せず同じ名前を別々のものにつけてしまう現象はよくある。このような事故を**名前の衝突**という。これらの現象は**名前空間を使用することで回避することができる。**\n",
    "\n",
    "名前空間とは、名前(識別子)を分割して管理するための空間であり、同じ名前であっても名前空間が別ならば、衝突せずに共存することができる。パッケージの利用や開発する上でも、名前空間を理解することは非常に重要"
   ]
  },
  {
   "cell_type": "markdown",
   "metadata": {},
   "source": [
    "あるモジュールの名前空間に属する名前は、そのモジュール名を通して参照することができる。例えば、Aというモジュールの中にfooという名前の関数があったとする。Aモジュールが定める名前空間の外ではfoo関数を直接参照できないが、A.fooと書くことでモジュール名を通して間接的に参照するkとができる。\n",
    "\n",
    "Juliaのコードは、常にモジュールに関連ついた名前空間の中で実行されている。例えばREPLを起動してgcd(12,8)と入力すると12と8の最大公約数が計算できるが、このときJuliaはMainと呼ばれるデフォルトで存在するモジュールの名前空間からgcdの名前に対応する関数を探し出している。**コードの現在位置でどのモジュールが有効になっているかは、@\\_\\_MODULE\\_\\_マクロで確認できる**"
   ]
  },
  {
   "cell_type": "code",
   "execution_count": 34,
   "metadata": {},
   "outputs": [
    {
     "data": {
      "text/plain": [
       "Main"
      ]
     },
     "execution_count": 34,
     "metadata": {},
     "output_type": "execute_result"
    }
   ],
   "source": [
    "@__MODULE__"
   ]
  },
  {
   "cell_type": "markdown",
   "metadata": {},
   "source": [
    "現在のモジュールの名前空間に名前を追加するには二つの方法がある。一つ目の方法は、**現在のモジュールで新しい名前を定義する方法**。二つ目の方法は、**既にある他のモジュールから現在のモジュールに名前を取り込む方法**である。"
   ]
  },
  {
   "cell_type": "markdown",
   "metadata": {},
   "source": [
    "### 既存モジュールの利用\n",
    "この方法は、Juliaの標準ライブラリやパッケージを利用するときの方法である。\n",
    "\n",
    "Juliaの標準ライブラリにあるStatisticsモジュールを例にする(meanやstdなどの関数が存在する)。Statisticsモジュールから提供されている関数名を現在のモジュールに取り込むには、**using文を使うのが一般的である**。using Statisticsのように、対象のモジュール名を指定して呼び出す。\n",
    "\n",
    "また、**usingで名前を指定せずに取り込むことは可能だが、意図しない名前も取り込んでしまうので、ソースコードを読みやすくするには取り込む名前も指定してあげた方が良い**。\n",
    "\n",
    "注意：usingと似たような機能でimport文がある。こちらはusingと異なり、モジュールから暗黙的に名前を取り込まない。"
   ]
  },
  {
   "cell_type": "code",
   "execution_count": 28,
   "metadata": {},
   "outputs": [
    {
     "data": {
      "text/plain": [
       "2.0"
      ]
     },
     "execution_count": 28,
     "metadata": {},
     "output_type": "execute_result"
    }
   ],
   "source": [
    "#初めはmean関数は存在しない\n",
    "#mean([1,2,3])\n",
    "\n",
    "using Statistics\n",
    "mean([1,2,3])"
   ]
  },
  {
   "cell_type": "code",
   "execution_count": 30,
   "metadata": {},
   "outputs": [
    {
     "data": {
      "text/plain": [
       "2.0"
      ]
     },
     "execution_count": 30,
     "metadata": {},
     "output_type": "execute_result"
    }
   ],
   "source": [
    "# :の後に取り込む名前の指定もできる複数取り込むときは,でつなげる\n",
    "using Statistics: mean, std\n",
    "mean([1,2,3]) # OK\n",
    "#std([1,2,3]) # NG"
   ]
  },
  {
   "cell_type": "code",
   "execution_count": 31,
   "metadata": {},
   "outputs": [
    {
     "data": {
      "text/plain": [
       "2.0"
      ]
     },
     "execution_count": 31,
     "metadata": {},
     "output_type": "execute_result"
    }
   ],
   "source": [
    "# usingはモジュール自身も取り込める\n",
    "using Statistics: Statistics\n",
    "\n",
    "Statistics.mean([1,2,3])\n",
    "\n",
    "# mean([1,2,3]) # エラーになる"
   ]
  },
  {
   "cell_type": "markdown",
   "metadata": {},
   "source": [
    "### 新しいモジュールの定義\n",
    "新しいモジュールを定義するときは、moduleキーワードを用いる。モジュールの名前は慣習として大文字から始める。また、慣習としてmoduleとendの間はインデントを行わない。\n",
    "\n",
    "moduleからendの間に書かれたソースコードで定義される名前は、現在定義しているモジュールの名前空間に属する。したがって、それ以前に同名の関数やグローバル変数を定義していたとしても、上書きされることはない。"
   ]
  },
  {
   "cell_type": "code",
   "execution_count": 32,
   "metadata": {},
   "outputs": [
    {
     "data": {
      "text/plain": [
       "Main.Greeting"
      ]
     },
     "execution_count": 32,
     "metadata": {},
     "output_type": "execute_result"
    }
   ],
   "source": [
    "module Greeting\n",
    "hello(name) = println(\"Hello, $(name).\")\n",
    "end"
   ]
  },
  {
   "cell_type": "code",
   "execution_count": 33,
   "metadata": {},
   "outputs": [
    {
     "name": "stdout",
     "output_type": "stream",
     "text": [
      "Hello, Julia.\n"
     ]
    }
   ],
   "source": [
    "Greeting.hello(\"Julia\")"
   ]
  },
  {
   "cell_type": "markdown",
   "metadata": {},
   "source": [
    "前述では、using文を使って他のモジュールから現在のモジュールに名前を取り込めることを説明したが、このときどの名前が取り込まれるかはモジュール定義のときに指定する。**export文はモジュール定義の中で行い、そのモジュールがusing文で読み込まれたときに取り込む名前を定義する。例えが、using文を実行したときにfoo関数を取り込むようにしたければexport fooとモジュール定義内に記述する**。\n",
    "\n",
    "using Statisticsを実行するとmeanやstdなどの関数名が現在のモジュールに取り込まれていたが、それらもexport文を使ってモジュールからエクスポートするように指定されている。以下にexport文を使ったモジュールの定義の例を示す。こちらの例ではgoodbye関数も定義されているが、こちらの名前はエクスポートするように指定されていない。\n",
    "\n",
    "しかし、**Greeting.goodbyeのようにモジュール名を経由することでエクスポートされていない名前も取得することができる**。"
   ]
  },
  {
   "cell_type": "code",
   "execution_count": 35,
   "metadata": {},
   "outputs": [
    {
     "name": "stderr",
     "output_type": "stream",
     "text": [
      "WARNING: replacing module Greeting.\n"
     ]
    },
    {
     "data": {
      "text/plain": [
       "Main.Greeting"
      ]
     },
     "execution_count": 35,
     "metadata": {},
     "output_type": "execute_result"
    }
   ],
   "source": [
    "module Greeting\n",
    "export hello\n",
    "hello(name) = println(\"Hello, $(name).\")\n",
    "goodbye(name) = println(\"Goodbye, $(name).\")\n",
    "end"
   ]
  },
  {
   "cell_type": "markdown",
   "metadata": {},
   "source": [
    "また、モジュールの構造は入れ子にもできる。次のコード例では、Aモジュールの中でB1とB2モジュールを定義している。モジュールの定義では通常インデントをつけないが、今回は見やすさを重視するためにインデントを加えている。\n",
    "\n",
    "子のモジュールは親のモジュールを経由することで参照することができる。"
   ]
  },
  {
   "cell_type": "raw",
   "metadata": {},
   "source": [
    "module A\n",
    "    module B1\n",
    "        # A.B1のモジュール\n",
    "    end\n",
    "    module B2\n",
    "        # A.B2のモジュール\n",
    "    end\n",
    "end"
   ]
  },
  {
   "cell_type": "markdown",
   "metadata": {},
   "source": [
    "### モジュールの相対パス指定\n",
    "\n",
    "using文やimport文で指定されたモジュール名は、基本的にLOAD_PATHという変数に収められたプロジェクトのパスから検索される。\n",
    "\n",
    "module文を使って定義した直後のモジュールは、using文を使って読み込もうとしても失敗する。これは、using GreetingがLOAD_PATHからGreetingモジュールを探し出そうとするためである。\n",
    "\n",
    "よって、.ModuleNameは自分の子モジュールを指定する相対パスである。.GreetingでMainモジュールの子モジュールであるGreetingモジュールが指定されている。これよりも祖先の子モジュールを相対パスで指定するためには、ドットを必要な分だけ重ねる(..ModuleName, ...ModuleName)"
   ]
  },
  {
   "cell_type": "code",
   "execution_count": 37,
   "metadata": {},
   "outputs": [
    {
     "name": "stdout",
     "output_type": "stream",
     "text": [
      "Hello, Julia.\n"
     ]
    }
   ],
   "source": [
    "# using Greeting(失敗)\n",
    "using .Greeting # 相対パスによる読み込み\n",
    "hello(\"Julia\")"
   ]
  },
  {
   "cell_type": "markdown",
   "metadata": {},
   "source": [
    "以下に、ネストしたモジュールの相対パスの指定方法を示す"
   ]
  },
  {
   "cell_type": "raw",
   "metadata": {},
   "source": [
    "module A\n",
    "  module B1\n",
    "  end\n",
    "  using .B1 # 自分(A)の子(B1)を読み込む\n",
    "  module B2\n",
    "    using ..B1 # 自分(B2)の親の子を読み込む\n",
    "  end\n",
    "end "
   ]
  },
  {
   "cell_type": "markdown",
   "metadata": {},
   "source": [
    "### ファイルの分割\n",
    "モジュールを定義すると、そのソースコードが非常に長くなることがある。そうなると管理が難しくなるため、適当な単位で分割した管理したい時がある。**Juliaではinclude関数を使ってモジュールを複数のファイルに分けて定義することができる**。下記の例では、三つのファイルから構成されるモジュールを定義できる。\n",
    "\n",
    "ファイルの取り込みには絶対パスも使用できるが、**通常ソースコードのファイルはプロジェクト単位で管理されるので、絶対パスを使うとプロジェクトの移動により正しくファイルが読み込めなくなる恐れがある**。従って、**include関数には、その関数を呼び出したファイルを収めたディレクトリからの相対パスを指定するのが一般的である**。"
   ]
  },
  {
   "cell_type": "raw",
   "metadata": {},
   "source": [
    "module Foo\n",
    "include(\"file1.jl\")\n",
    "include(\"file2.jl\")\n",
    "include(\"file3.jl\")\n",
    "end"
   ]
  },
  {
   "cell_type": "markdown",
   "metadata": {},
   "source": [
    "### 他のモジュールで定義された関数の拡張\n",
    "Juliaは多重ディスパッチを中心としたプログラミング言語であり、あるモジュールで定義された関数を外部から拡張する機能を持っている。\n",
    "**using文では取り込んだ関数の拡張ができないが、import文では拡張できる**という違いがある。\n",
    "\n",
    "次の例では、ユーザが定義したVec3型に対してlength関数を呼び出せるように拡張している。**import文を使ってlength関数をBaseモジュールから取り込むことで、長さを計算する操作をVec3型にも拡張することができる**。"
   ]
  },
  {
   "cell_type": "code",
   "execution_count": 39,
   "metadata": {},
   "outputs": [
    {
     "data": {
      "text/plain": [
       "length (generic function with 85 methods)"
      ]
     },
     "execution_count": 39,
     "metadata": {},
     "output_type": "execute_result"
    }
   ],
   "source": [
    "# 長さが3に固定されたベクトルの定義(抽象型のパラメトリック型を使用している)\n",
    "struct Vec3{T} <: AbstractVector{T}\n",
    "    x::T\n",
    "    y::T\n",
    "    z::T\n",
    "end\n",
    "\n",
    "# length関数をBaseモジュールから拡張するために取り組む\n",
    "import Base: length\n",
    "length(v::Vec3) = 3"
   ]
  },
  {
   "cell_type": "code",
   "execution_count": null,
   "metadata": {},
   "outputs": [],
   "source": []
  }
 ],
 "metadata": {
  "kernelspec": {
   "display_name": "Julia 1.5.3",
   "language": "julia",
   "name": "julia-1.5"
  },
  "language_info": {
   "file_extension": ".jl",
   "mimetype": "application/julia",
   "name": "julia",
   "version": "1.5.3"
  }
 },
 "nbformat": 4,
 "nbformat_minor": 2
}
