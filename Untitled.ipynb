{
 "cells": [
  {
   "cell_type": "markdown",
   "metadata": {},
   "source": [
    "## Juliaの基本\n",
    "\n",
    "ちなみにREPLでは、最後に評価された表現はansという特殊な変数に代入される(jupyterは適用されてない)"
   ]
  },
  {
   "cell_type": "code",
   "execution_count": 5,
   "metadata": {},
   "outputs": [
    {
     "data": {
      "text/plain": [
       "3"
      ]
     },
     "execution_count": 5,
     "metadata": {},
     "output_type": "execute_result"
    }
   ],
   "source": [
    "x=1\n",
    "y=2.0\n",
    "\n",
    "2x+1"
   ]
  },
  {
   "cell_type": "code",
   "execution_count": 11,
   "metadata": {},
   "outputs": [
    {
     "name": "stdout",
     "output_type": "stream",
     "text": [
      "12\n",
      "0.7853981633974483\n",
      "1.414213562373095\n"
     ]
    }
   ],
   "source": [
    "println(2(x-3)^2 - 3(x-2) + 1)\n",
    "\n",
    "# 一応、変数名にUnicodeを使うこともできる\n",
    "θ = pi/4\n",
    "println(θ)\n",
    "println(sin(θ)+cos(θ))"
   ]
  },
  {
   "cell_type": "code",
   "execution_count": 17,
   "metadata": {},
   "outputs": [
    {
     "name": "stdout",
     "output_type": "stream",
     "text": [
      "Int64\n",
      "Float64\n",
      "64\n",
      "1\n"
     ]
    }
   ],
   "source": [
    "# プリミティブ型→typeof関数で確認することができる\n",
    "println(typeof(1))\n",
    "println(typeof(2.0))\n",
    "\n",
    "# 64ビットなので、IntやUInthは64になる\n",
    "println(Sys.WORD_SIZE)\n",
    "\n",
    "# 0xの後に16進数の数字を付けて表し、数字の桁数によって自動的に決まる\n",
    "println(0x1)\n",
    "\n",
    "# 無限大はInf, -Inf(-Inf32,-Inf16などがある)。また、0/0の計算結果のように数字でないものはNaN,NaN16,NaN32が定義されてる\n",
    "\n",
    "# 任意精度浮動小数を表す型→BigFloat型やBigInt型がある\n",
    "x = 1111111111111111111111111111111111111111\n",
    "typeof(x+x)"
   ]
  },
  {
   "cell_type": "code",
   "execution_count": 21,
   "metadata": {},
   "outputs": [
    {
     "name": "stdout",
     "output_type": "stream",
     "text": [
      "π\n",
      "1.5.3\n"
     ]
    },
    {
     "ename": "LoadError",
     "evalue": "cannot declare x constant; it already has a value",
     "output_type": "error",
     "traceback": [
      "cannot declare x constant; it already has a value",
      "",
      "Stacktrace:",
      " [1] top-level scope at In[21]:6",
      " [2] include_string(::Function, ::Module, ::String, ::String) at ./loading.jl:1091"
     ]
    }
   ],
   "source": [
    "# Juliaではいくつかの定数があらかじめ定義されている\n",
    "println(pi)\n",
    "println(VERSION)\n",
    "\n",
    "# 定数\n",
    "const x = 1.0\n",
    "# 後から値を変更することができない\n",
    "x=1"
   ]
  },
  {
   "cell_type": "code",
   "execution_count": 28,
   "metadata": {},
   "outputs": [
    {
     "name": "stdout",
     "output_type": "stream",
     "text": [
      "1 + 2im\n",
      "8 + 1im\n",
      "1\n",
      "2\n",
      "1 - 2im\n",
      "2.23606797749979\n"
     ]
    }
   ],
   "source": [
    "# 複素数\n",
    "println(1 + 2im)\n",
    "println((1 + 2im)*(2 - 3im))\n",
    "println(real(1 + 2im))\n",
    "println(imag(1 + 2im))\n",
    "println(conj(1 + 2im))\n",
    "println(abs(1 + 2im))"
   ]
  },
  {
   "cell_type": "code",
   "execution_count": 33,
   "metadata": {},
   "outputs": [
    {
     "name": "stdout",
     "output_type": "stream",
     "text": [
      "H\n",
      "Char\n"
     ]
    },
    {
     "data": {
      "text/plain": [
       "'H': ASCII/Unicode U+0048 (category Lu: Letter, uppercase)"
      ]
     },
     "execution_count": 33,
     "metadata": {},
     "output_type": "execute_result"
    }
   ],
   "source": [
    "# 文字列\n",
    "s = \"Hello Julia\"\n",
    "\n",
    "# 配列の要素は1が始まりなので注意すること\n",
    "println(typeof(s[1]))\n",
    "s[1]"
   ]
  },
  {
   "cell_type": "code",
   "execution_count": 35,
   "metadata": {},
   "outputs": [
    {
     "name": "stdout",
     "output_type": "stream",
     "text": [
      "Hello\n"
     ]
    },
    {
     "data": {
      "text/plain": [
       "'a': ASCII/Unicode U+0061 (category Ll: Letter, lowercase)"
      ]
     },
     "execution_count": 35,
     "metadata": {},
     "output_type": "execute_result"
    }
   ],
   "source": [
    "# スライスや文字列の最後を取り出したりもできる\n",
    "println(s[1:5])\n",
    "s[end]"
   ]
  },
  {
   "cell_type": "code",
   "execution_count": 38,
   "metadata": {},
   "outputs": [
    {
     "name": "stdout",
     "output_type": "stream",
     "text": [
      "Hello Julia\n",
      "Hello Julia\n",
      "Hello Julia\n",
      "1 + 2 = 3\n"
     ]
    }
   ],
   "source": [
    "# 出力方法\n",
    "hello = \"Hello\";\n",
    "julia = \"Julia\";\n",
    "println(hello, \" \", julia)\n",
    "println(hello * \" \" * julia)\n",
    "println(\"$hello $julia\")\n",
    "println(\"1 + 2 = $(1 + 2)\")"
   ]
  },
  {
   "cell_type": "code",
   "execution_count": null,
   "metadata": {},
   "outputs": [],
   "source": [
    "# Unicode文字列\n"
   ]
  }
 ],
 "metadata": {
  "kernelspec": {
   "display_name": "Julia 1.5.3",
   "language": "julia",
   "name": "julia-1.5"
  },
  "language_info": {
   "file_extension": ".jl",
   "mimetype": "application/julia",
   "name": "julia",
   "version": "1.5.3"
  }
 },
 "nbformat": 4,
 "nbformat_minor": 2
}
