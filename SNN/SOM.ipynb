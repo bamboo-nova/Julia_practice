{
 "cells": [
  {
   "cell_type": "code",
   "execution_count": null,
   "metadata": {},
   "outputs": [],
   "source": [
    "using Random\n",
    "using Base: @kwdef\n",
    "using Parameters: @unpack\n",
    "using Plots"
   ]
  },
  {
   "cell_type": "code",
   "execution_count": null,
   "metadata": {},
   "outputs": [],
   "source": [
    "@kwdef struct SOMParameter{}\n",
    "    N::UInt32 = 20 # Linear size of 2D map\n",
    "    n_teacher::UInt32 = 10000 # of teacher signal\n",
    "    Random.seed!(100)\n",
    "    #rand(1,1)\n",
    "end\n",
    "\n",
    "function update!(param::SOMParameter, I::Vector, dt)\n",
    "    @unpack N, n_teacher,  = param\n",
    "    nodes = rand(N,N,3)\n",
    "    p3=wireframe(x,y,z,title=\"wireframe\")  \n",
    "    plot(p3,layout=(1,1),size=(250,250),fmt=:png)\n",
    "    \"\"\"\n",
    "    Learning\n",
    "    \"\"\"\n",
    "    teacher = rand(n_teacher, 3)\n",
    "    for n = 1:n_teacher\n",
    "        \n",
    "    end"
   ]
  }
 ],
 "metadata": {
  "kernelspec": {
   "display_name": "Julia 1.5.3",
   "language": "julia",
   "name": "julia-1.5"
  },
  "language_info": {
   "file_extension": ".jl",
   "mimetype": "application/julia",
   "name": "julia",
   "version": "1.5.3"
  }
 },
 "nbformat": 4,
 "nbformat_minor": 2
}
