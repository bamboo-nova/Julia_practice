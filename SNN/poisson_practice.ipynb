{
 "cells": [
  {
   "cell_type": "code",
   "execution_count": 33,
   "id": "cc82d2f3-b89f-462f-9249-071b15c985df",
   "metadata": {},
   "outputs": [
    {
     "data": {
      "text/plain": [
       "pprocess_poisson (generic function with 1 method)"
      ]
     },
     "execution_count": 33,
     "metadata": {},
     "output_type": "execute_result"
    }
   ],
   "source": [
    "function pprocess_poisson(lambda)\n",
    "    xs = [0.0];\n",
    "\n",
    "    R = 0;\n",
    "    \n",
    "    x = 0.0;\n",
    "    #while x <= lambda*dt\n",
    "    while x <= 0.5\n",
    "        x = x + - log(rand()) / lambda;\n",
    "        push!(xs, round(x, digits=n));\n",
    "    end\n",
    "    \n",
    "    return xs\n",
    "\n",
    "end"
   ]
  },
  {
   "cell_type": "code",
   "execution_count": 34,
   "id": "bf9a7f19-6277-4f70-bd5c-222032782011",
   "metadata": {},
   "outputs": [
    {
     "data": {
      "text/plain": [
       "74-element Array{Float64,1}:\n",
       " 0.0\n",
       " 0.006\n",
       " 0.011\n",
       " 0.011\n",
       " 0.012\n",
       " 0.013\n",
       " 0.017\n",
       " 0.027\n",
       " 0.03\n",
       " 0.036\n",
       " 0.041\n",
       " 0.042\n",
       " 0.045\n",
       " ⋮\n",
       " 0.388\n",
       " 0.399\n",
       " 0.418\n",
       " 0.424\n",
       " 0.426\n",
       " 0.432\n",
       " 0.441\n",
       " 0.461\n",
       " 0.465\n",
       " 0.472\n",
       " 0.488\n",
       " 0.508"
      ]
     },
     "execution_count": 34,
     "metadata": {},
     "output_type": "execute_result"
    }
   ],
   "source": [
    "n=3\n",
    "dt=1e-3\n",
    "pprocess_poisson(100)"
   ]
  },
  {
   "cell_type": "code",
   "execution_count": null,
   "id": "ce641ddf-a9c6-46d4-a5a5-886723f15aba",
   "metadata": {},
   "outputs": [],
   "source": []
  }
 ],
 "metadata": {
  "kernelspec": {
   "display_name": "Julia 1.5.3",
   "language": "julia",
   "name": "julia-1.5"
  },
  "language_info": {
   "file_extension": ".jl",
   "mimetype": "application/julia",
   "name": "julia",
   "version": "1.5.3"
  }
 },
 "nbformat": 4,
 "nbformat_minor": 5
}
