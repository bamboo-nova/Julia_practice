{
 "cells": [
  {
   "cell_type": "markdown",
   "metadata": {},
   "source": [
    "## コレクション\n",
    "ちなみにDataStructures.jlパッケージでは、ヒープや優先度付きキューなど、標準ライブラリには含まれてないデータ構造が提供されている。\n",
    "\n",
    "また、Juliaでは慣用的に関数名の最後に!を付与したものは、引数の全てまたは一部を変更あるいは破棄することを示す。mutableなコレクションでは、コレクションに要素を追加したり削除する機能が提供されているので、それらを行う関数名の末尾には!がついている。最後に!が付与されていない場合は、基本的に引数に対する破壊的変更がないことが期待される。"
   ]
  },
  {
   "cell_type": "markdown",
   "metadata": {},
   "source": [
    "### タプル\n",
    "タプルはimmutableな型なので、値を変更することができない。"
   ]
  },
  {
   "cell_type": "code",
   "execution_count": 3,
   "metadata": {},
   "outputs": [
    {
     "name": "stdout",
     "output_type": "stream",
     "text": [
      "Tuple{Int64,Int64,Int64}\n",
      "1\n"
     ]
    }
   ],
   "source": [
    "t = (1,2,3)\n",
    "\n",
    "println(typeof(t))\n",
    "println(t[1])\n",
    "\n",
    "# エラーとなる\n",
    "# t[1] = 4"
   ]
  },
  {
   "cell_type": "markdown",
   "metadata": {},
   "source": [
    "タプルは、例えばArray型のサイズを表現するために使用される(rand関数など)"
   ]
  },
  {
   "cell_type": "code",
   "execution_count": 4,
   "metadata": {},
   "outputs": [
    {
     "data": {
      "text/plain": [
       "4×3 Array{Float64,2}:\n",
       " 0.222774   0.688785   0.89713\n",
       " 0.923371   0.0760798  0.149442\n",
       " 0.499156   0.71677    0.191086\n",
       " 0.0243771  0.840513   0.678895"
      ]
     },
     "execution_count": 4,
     "metadata": {},
     "output_type": "execute_result"
    }
   ],
   "source": [
    "array = rand(4, 3)"
   ]
  },
  {
   "cell_type": "code",
   "execution_count": 5,
   "metadata": {},
   "outputs": [
    {
     "data": {
      "text/plain": [
       "(4, 3)"
      ]
     },
     "execution_count": 5,
     "metadata": {},
     "output_type": "execute_result"
    }
   ],
   "source": [
    "size(array)"
   ]
  },
  {
   "cell_type": "markdown",
   "metadata": {},
   "source": [
    "#### 名前付きタプル"
   ]
  },
  {
   "cell_type": "code",
   "execution_count": 6,
   "metadata": {},
   "outputs": [
    {
     "data": {
      "text/plain": [
       "(a = 1, b = 2, c = 3)"
      ]
     },
     "execution_count": 6,
     "metadata": {},
     "output_type": "execute_result"
    }
   ],
   "source": [
    "t = (a=1, b=2, c=3)"
   ]
  },
  {
   "cell_type": "code",
   "execution_count": 9,
   "metadata": {},
   "outputs": [
    {
     "name": "stdout",
     "output_type": "stream",
     "text": [
      "1\n",
      "2\n",
      "3\n"
     ]
    }
   ],
   "source": [
    "# 名前でも要素、シンボルでも取得できる\n",
    "println(t.a)\n",
    "println(t[2])\n",
    "println(t[:c])"
   ]
  },
  {
   "cell_type": "markdown",
   "metadata": {},
   "source": [
    "### リスト\n",
    "Juliaでは一次元のArray型をリストとして用いる。値の追加や削除には、push!やpop!, insert!, deleteat!などの関数を用いる\n",
    "\n",
    "DataStructures.jlにはスタック、キュー、両端キューなどが提供されているので、状況に応じてそれらの使用も検討すると良い"
   ]
  },
  {
   "cell_type": "code",
   "execution_count": 12,
   "metadata": {},
   "outputs": [
    {
     "name": "stdout",
     "output_type": "stream",
     "text": [
      "[1, 2]\n",
      "[1, 2, 3]\n",
      "3\n",
      "[1, 2]\n",
      "[1, 4, 2]\n",
      "[1, 4]\n"
     ]
    }
   ],
   "source": [
    "list =[]\n",
    "list = [1, 2]\n",
    "println(list)\n",
    "\n",
    "# 末尾に要素を加える\n",
    "println(push!(list, 3))\n",
    "\n",
    "# 末尾の要素を取り出す(先頭はpopfirst!)\n",
    "println(pop!(list))\n",
    "\n",
    "println(list)\n",
    "\n",
    "# i番目に要素入れる　\n",
    "println(insert!(list, 2, 4))\n",
    "\n",
    "# i番目の要素を削除する\n",
    "println(deleteat!(list, 3))"
   ]
  },
  {
   "cell_type": "markdown",
   "metadata": {},
   "source": [
    "### 辞書\n",
    "\n",
    "Dict{String,Int}()のように型を初期化しない場合はDict{String}()とすると、Dict{String,Any}()と同じ扱いになる。\n",
    "Dict()にすると、Dict{Any,Any}と同じ意味になる\n",
    "\n",
    "他にも辞書型に関する様々な関数が提供されている"
   ]
  },
  {
   "cell_type": "code",
   "execution_count": 17,
   "metadata": {},
   "outputs": [
    {
     "name": "stdout",
     "output_type": "stream",
     "text": [
      "Dict{String,Int64}()\n"
     ]
    },
    {
     "data": {
      "text/plain": [
       "Dict{String,Int64} with 2 entries:\n",
       "  \"b\" => 2\n",
       "  \"a\" => 1"
      ]
     },
     "execution_count": 17,
     "metadata": {},
     "output_type": "execute_result"
    }
   ],
   "source": [
    "d = Dict{String,Int}()\n",
    "println(d)\n",
    "d[\"a\"] = 1; d[\"b\"] = 2;\n",
    "d"
   ]
  },
  {
   "cell_type": "code",
   "execution_count": 16,
   "metadata": {},
   "outputs": [
    {
     "data": {
      "text/plain": [
       "Dict{String,Int64} with 2 entries:\n",
       "  \"b\" => 2\n",
       "  \"a\" => 3"
      ]
     },
     "execution_count": 16,
     "metadata": {},
     "output_type": "execute_result"
    }
   ],
   "source": [
    "# エラー\n",
    "#d[\"c\"]\n",
    "\n",
    "d[\"a\"]=3;\n",
    "d"
   ]
  },
  {
   "cell_type": "code",
   "execution_count": 18,
   "metadata": {},
   "outputs": [
    {
     "data": {
      "text/plain": [
       "true"
      ]
     },
     "execution_count": 18,
     "metadata": {},
     "output_type": "execute_result"
    }
   ],
   "source": [
    "# キーが辞書に含まれているかどうかあらかじめ確認したい場合は、haskey関数を用いる\n",
    "haskey(d, \"a\")"
   ]
  },
  {
   "cell_type": "markdown",
   "metadata": {},
   "source": [
    "### 集合\n",
    "\n",
    "キーのみを保持する辞書の位置付け。よって、重複する要素を格納することができないので、データからユニークな要素だけを取り出したり、その数を数えたりする際によく用いられる。\n",
    "\n",
    "また、辞書と同じくs=Set()とすると、Set{Any}型のオブジェクトとなり、要素にどのような型のオブジェクトも入れることができる。数学記号を演算子として用いることもできる。"
   ]
  },
  {
   "cell_type": "code",
   "execution_count": 23,
   "metadata": {},
   "outputs": [
    {
     "name": "stdout",
     "output_type": "stream",
     "text": [
      "Set([2, 1])\n",
      "Set{Int64}\n"
     ]
    },
    {
     "data": {
      "text/plain": [
       "Set{Int64} with 1 element:\n",
       "  3"
      ]
     },
     "execution_count": 23,
     "metadata": {},
     "output_type": "execute_result"
    }
   ],
   "source": [
    "s = Set([1,2])\n",
    "println(s)\n",
    "println(typeof(s))\n",
    "\n",
    "# 値の追加\n",
    "push!(s, 3)\n",
    "\n",
    "# 和集合\n",
    "union(s, [3,4])\n",
    "\n",
    "# 積集合\n",
    "intersect(s, [3,4])"
   ]
  },
  {
   "cell_type": "markdown",
   "metadata": {},
   "source": [
    "### コレクション共通の関数\n",
    "isempty(collection) -> コレクションが空かどうか\n",
    "\n",
    "empty!(collection) -> コレクションを空にする\n",
    "\n",
    "length(collection) -> コレクションの要素数\n",
    "\n",
    "eltype(collection) -> コレクションの型パラメータ"
   ]
  },
  {
   "cell_type": "markdown",
   "metadata": {},
   "source": [
    "### コレクションのイテレーション"
   ]
  },
  {
   "cell_type": "code",
   "execution_count": 24,
   "metadata": {},
   "outputs": [
    {
     "name": "stdout",
     "output_type": "stream",
     "text": [
      "c\n",
      "b\n",
      "a\n"
     ]
    }
   ],
   "source": [
    "d = Dict(\"a\" => 1, \"b\" => 2, \"c\" => 3)\n",
    "\n",
    "for (key, value) in d\n",
    "    println(key)\n",
    "end"
   ]
  },
  {
   "cell_type": "code",
   "execution_count": null,
   "metadata": {},
   "outputs": [],
   "source": [
    "# コレクションのイテレーションの場合は、以下のようになる。\n",
    "next = iterate(collection)\n",
    "while next !== nothing\n",
    "    (x, state) = next\n",
    "    # 何らかの処理\n",
    "    next = iterate(collection, state)\n",
    "end"
   ]
  },
  {
   "cell_type": "code",
   "execution_count": null,
   "metadata": {},
   "outputs": [],
   "source": []
  }
 ],
 "metadata": {
  "kernelspec": {
   "display_name": "Julia 1.5.3",
   "language": "julia",
   "name": "julia-1.5"
  },
  "language_info": {
   "file_extension": ".jl",
   "mimetype": "application/julia",
   "name": "julia",
   "version": "1.5.3"
  }
 },
 "nbformat": 4,
 "nbformat_minor": 2
}
