{
 "cells": [
  {
   "cell_type": "markdown",
   "metadata": {},
   "source": [
    "## メタプログラミング\n",
    "プログラムを使ってコードの生成や書き換えなどを行うことをメタプログラミングとする。Julia以外のプログラミング言語では、LispのマクロやPythonのデコレータなどが例になる。\n",
    "\n",
    "Juliaはメタプログラミングを比較的多く用いる言語である。**メタプログラミングを使用することで、複雑なコードを実行時に生成したり、冗長なコードの反復を回避することができる**。@assertなど、@から始まるマクロの呼び出しから成り立ち、**受け取ったJuliaのコードをオブジェクトや別のコードに変換**する。また、r\"\\d+\"のような正規表現などで知られている非標準文字列リテラルも使われる。これもマクロの一種であり、**受け取った文字列をオブジェクトや別のコードへと変換**する。"
   ]
  },
  {
   "cell_type": "markdown",
   "metadata": {},
   "source": [
    "### シンボル\n",
    "シンボルはJuliaが取り扱うデータ型の一種で、処理系の内部で使われる名前(識別子)に対応する。例えば、fooという変数をソースコードで使用すると、そのコードを構文解析したときにfooという名前のシンボルが処理系の内部に作られる。\n",
    "\n",
    "**名前の前にコロンをつけることで作成することができる**"
   ]
  },
  {
   "cell_type": "code",
   "execution_count": 4,
   "metadata": {},
   "outputs": [
    {
     "name": "stdout",
     "output_type": "stream",
     "text": [
      "foo\n"
     ]
    },
    {
     "data": {
      "text/plain": [
       "Symbol"
      ]
     },
     "execution_count": 4,
     "metadata": {},
     "output_type": "execute_result"
    }
   ],
   "source": [
    "println(:foo)\n",
    "\n",
    "typeof(ans)"
   ]
  },
  {
   "cell_type": "code",
   "execution_count": 5,
   "metadata": {},
   "outputs": [
    {
     "data": {
      "text/plain": [
       ":foobar9"
      ]
     },
     "execution_count": 5,
     "metadata": {},
     "output_type": "execute_result"
    }
   ],
   "source": [
    "# 以下のようにSymbol型のコンストラクタを呼び出して作ることもできる\n",
    "Symbol(\"foo\")\n",
    "# コンストラクタの引数は文字列や数値、他のシンボルを渡して結合した名前を作り出すこともできる\n",
    "Symbol(\"foo\", :bar, 9)"
   ]
  },
  {
   "cell_type": "markdown",
   "metadata": {},
   "source": [
    "### 構文木(abstract syntax tree: AST)\n",
    "\n",
    "入力されたコードやファイルに保存されたコードは単なる文字列だが、コードはJuliaの処理系に読み込まれると構文解析され、抽象構文木と呼ばれるデータ構造に変換される。抽象構文木は単に構文木と呼ばれる。\n",
    "\n",
    "構文木はJuliaのオブジェクトとして扱うことができる。:(hoge)でJuliaのコードを囲むと、Juliaの処理系はそのコードを実行せずに構文木をオブジェクトとして取り出す。この操作をクォートと呼ぶ"
   ]
  },
  {
   "cell_type": "code",
   "execution_count": 7,
   "metadata": {},
   "outputs": [
    {
     "data": {
      "text/plain": [
       ":(2x + 1)"
      ]
     },
     "execution_count": 7,
     "metadata": {},
     "output_type": "execute_result"
    }
   ],
   "source": [
    "ex = :(2x+1)"
   ]
  },
  {
   "cell_type": "markdown",
   "metadata": {},
   "source": [
    "一行の単純なコードのクォートは:()を用いるが、複数行からなるコードのクォートにはquoteキーワードを使用する。quoteとendで挟まれた部分のコードは、:(hoge)で囲んだコードと同じようにクォートされる。\n",
    "\n",
    "整数や文字列などのリテラルを除けば、構文木はExpr型で表現されるオブジェクト型になる(expressionの短縮形)。**Expr型のオブジェクトにはheadフィールドとargsフィールドがあり、headフィールドが構文木の種類を表し、argsフィールドがその構成要素を保持している**。\n",
    "\n",
    "以下の例では、2x+1という計算式の内部構造をdump関数で観察している。この構文木のheadフィールドは:callというシンボルが収められており、構文木が関数呼び出しであることを意味している。argsフィールドには三つの要素が収められており、1要素目が:+シンボル、2要素目が2xに対応する別の構文木、3要素目が整数1のリテラルである。"
   ]
  },
  {
   "cell_type": "code",
   "execution_count": 8,
   "metadata": {},
   "outputs": [
    {
     "name": "stdout",
     "output_type": "stream",
     "text": [
      "Expr\n",
      "  head: Symbol call\n",
      "  args: Array{Any}((3,))\n",
      "    1: Symbol +\n",
      "    2: Expr\n",
      "      head: Symbol call\n",
      "      args: Array{Any}((3,))\n",
      "        1: Symbol *\n",
      "        2: Int64 2\n",
      "        3: Symbol x\n",
      "    3: Int64 1\n"
     ]
    }
   ],
   "source": [
    "dump(ex)"
   ]
  },
  {
   "cell_type": "code",
   "execution_count": 9,
   "metadata": {},
   "outputs": [
    {
     "name": "stdout",
     "output_type": "stream",
     "text": [
      "Expr\n",
      "  head: Symbol =\n",
      "  args: Array{Any}((2,))\n",
      "    1: Symbol x\n",
      "    2: Int64 10\n"
     ]
    }
   ],
   "source": [
    "dump(:(x=10))"
   ]
  },
  {
   "cell_type": "markdown",
   "metadata": {},
   "source": [
    "### 構文木の補間\n",
    "クォートで作られた構文木には、別の構文木やリテラルを埋め込める。これを**補間(interpolation)**と呼ぶ。**構文は文字列の補間と同じように\\$記号を用いる**\n",
    "\n",
    "$(func(ex))のように関数を適用した結果で補間することもできる"
   ]
  },
  {
   "cell_type": "code",
   "execution_count": 12,
   "metadata": {},
   "outputs": [
    {
     "data": {
      "text/plain": [
       ":(2x + (3y + 1))"
      ]
     },
     "execution_count": 12,
     "metadata": {},
     "output_type": "execute_result"
    }
   ],
   "source": [
    "ex = :(3y + 1);\n",
    ":(2x + $(ex))"
   ]
  },
  {
   "cell_type": "markdown",
   "metadata": {},
   "source": [
    "メタプログラミングにおいては、シンボルは変数などの識別子として使われることがほとんどなので、シンボルのリテラルでなく識別子として補間される方が利便性が高い。シンボルのリテラルとして補間する必要がある場合には、以下のようにQuoteNodeでクォートする。"
   ]
  },
  {
   "cell_type": "code",
   "execution_count": 13,
   "metadata": {},
   "outputs": [
    {
     "data": {
      "text/plain": [
       ":(2x + y)"
      ]
     },
     "execution_count": 13,
     "metadata": {},
     "output_type": "execute_result"
    }
   ],
   "source": [
    "ex = :y;\n",
    ":(2x + $(ex))"
   ]
  },
  {
   "cell_type": "code",
   "execution_count": 14,
   "metadata": {},
   "outputs": [
    {
     "data": {
      "text/plain": [
       ":(2x + :y)"
      ]
     },
     "execution_count": 14,
     "metadata": {},
     "output_type": "execute_result"
    }
   ],
   "source": [
    ":(2x + $(QuoteNode(ex)))"
   ]
  },
  {
   "cell_type": "code",
   "execution_count": null,
   "metadata": {},
   "outputs": [],
   "source": []
  }
 ],
 "metadata": {
  "kernelspec": {
   "display_name": "Julia 1.5.3",
   "language": "julia",
   "name": "julia-1.5"
  },
  "language_info": {
   "file_extension": ".jl",
   "mimetype": "application/julia",
   "name": "julia",
   "version": "1.5.3"
  }
 },
 "nbformat": 4,
 "nbformat_minor": 2
}
