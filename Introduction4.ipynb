{
 "cells": [
  {
   "cell_type": "markdown",
   "metadata": {},
   "source": [
    "## メタプログラミング\n",
    "プログラムを使ってコードの生成や書き換えなどを行うことをメタプログラミングとする。Julia以外のプログラミング言語では、LispのマクロやPythonのデコレータなどが例になる。\n",
    "\n",
    "Juliaはメタプログラミングを比較的多く用いる言語である。**メタプログラミングを使用することで、複雑なコードを実行時に生成したり、冗長なコードの反復を回避することができる**。@assertなど、@から始まるマクロの呼び出しから成り立ち、**受け取ったJuliaのコードをオブジェクトや別のコードに変換**する。また、r\"\\d+\"のような正規表現などで知られている非標準文字列リテラルも使われる。これもマクロの一種であり、**受け取った文字列をオブジェクトや別のコードへと変換**する。"
   ]
  },
  {
   "cell_type": "markdown",
   "metadata": {},
   "source": [
    "### シンボル\n",
    "シンボルはJuliaが取り扱うデータ型の一種で、処理系の内部で使われる名前(識別子)に対応する。例えば、fooという変数をソースコードで使用すると、そのコードを構文解析したときにfooという名前のシンボルが処理系の内部に作られる。\n",
    "\n",
    "**名前の前にコロンをつけることで作成することができる**"
   ]
  },
  {
   "cell_type": "code",
   "execution_count": 1,
   "metadata": {},
   "outputs": [
    {
     "name": "stdout",
     "output_type": "stream",
     "text": [
      "foo\n"
     ]
    },
    {
     "data": {
      "text/plain": [
       "Nothing"
      ]
     },
     "execution_count": 1,
     "metadata": {},
     "output_type": "execute_result"
    }
   ],
   "source": [
    "println(:foo)\n",
    "\n",
    "typeof(ans)"
   ]
  },
  {
   "cell_type": "code",
   "execution_count": 2,
   "metadata": {},
   "outputs": [
    {
     "data": {
      "text/plain": [
       ":foobar9"
      ]
     },
     "execution_count": 2,
     "metadata": {},
     "output_type": "execute_result"
    }
   ],
   "source": [
    "# 以下のようにSymbol型のコンストラクタを呼び出して作ることもできる\n",
    "Symbol(\"foo\")\n",
    "# コンストラクタの引数は文字列や数値、他のシンボルを渡して結合した名前を作り出すこともできる\n",
    "Symbol(\"foo\", :bar, 9)"
   ]
  },
  {
   "cell_type": "markdown",
   "metadata": {},
   "source": [
    "### 構文木(abstract syntax tree: AST)\n",
    "\n",
    "入力されたコードやファイルに保存されたコードは単なる文字列だが、コードはJuliaの処理系に読み込まれると構文解析され、抽象構文木と呼ばれるデータ構造に変換される。抽象構文木は単に構文木と呼ばれる。\n",
    "\n",
    "構文木はJuliaのオブジェクトとして扱うことができる。:(hoge)でJuliaのコードを囲むと、Juliaの処理系はそのコードを実行せずに構文木をオブジェクトとして取り出す。この操作をクォートと呼ぶ"
   ]
  },
  {
   "cell_type": "code",
   "execution_count": 3,
   "metadata": {},
   "outputs": [
    {
     "data": {
      "text/plain": [
       ":(2x + 1)"
      ]
     },
     "execution_count": 3,
     "metadata": {},
     "output_type": "execute_result"
    }
   ],
   "source": [
    "ex = :(2x+1)"
   ]
  },
  {
   "cell_type": "markdown",
   "metadata": {},
   "source": [
    "一行の単純なコードのクォートは:()を用いるが、複数行からなるコードのクォートにはquoteキーワードを使用する。quoteとendで挟まれた部分のコードは、:(hoge)で囲んだコードと同じようにクォートされる。\n",
    "\n",
    "整数や文字列などのリテラルを除けば、構文木はExpr型で表現されるオブジェクト型になる(expressionの短縮形)。**Expr型のオブジェクトにはheadフィールドとargsフィールドがあり、headフィールドが構文木の種類を表し、argsフィールドがその構成要素を保持している**。\n",
    "\n",
    "以下の例では、2x+1という計算式の内部構造をdump関数で観察している。この構文木のheadフィールドは:callというシンボルが収められており、構文木が関数呼び出しであることを意味している。argsフィールドには三つの要素が収められており、1要素目が:+シンボル、2要素目が2xに対応する別の構文木、3要素目が整数1のリテラルである。"
   ]
  },
  {
   "cell_type": "code",
   "execution_count": 8,
   "metadata": {},
   "outputs": [
    {
     "name": "stdout",
     "output_type": "stream",
     "text": [
      "Expr\n",
      "  head: Symbol call\n",
      "  args: Array{Any}((3,))\n",
      "    1: Symbol +\n",
      "    2: Expr\n",
      "      head: Symbol call\n",
      "      args: Array{Any}((3,))\n",
      "        1: Symbol *\n",
      "        2: Int64 2\n",
      "        3: Symbol x\n",
      "    3: Int64 1\n"
     ]
    }
   ],
   "source": [
    "dump(ex)"
   ]
  },
  {
   "cell_type": "code",
   "execution_count": 9,
   "metadata": {},
   "outputs": [
    {
     "name": "stdout",
     "output_type": "stream",
     "text": [
      "Expr\n",
      "  head: Symbol =\n",
      "  args: Array{Any}((2,))\n",
      "    1: Symbol x\n",
      "    2: Int64 10\n"
     ]
    }
   ],
   "source": [
    "dump(:(x=10))"
   ]
  },
  {
   "cell_type": "markdown",
   "metadata": {},
   "source": [
    "### 構文木の補間\n",
    "クォートで作られた構文木には、別の構文木やリテラルを埋め込める。これを**補間(interpolation)**と呼ぶ。**構文は文字列の補間と同じように\\$記号を用いる**\n",
    "\n",
    "$(func(ex))のように関数を適用した結果で補間することもできる"
   ]
  },
  {
   "cell_type": "code",
   "execution_count": 12,
   "metadata": {},
   "outputs": [
    {
     "data": {
      "text/plain": [
       ":(2x + (3y + 1))"
      ]
     },
     "execution_count": 12,
     "metadata": {},
     "output_type": "execute_result"
    }
   ],
   "source": [
    "ex = :(3y + 1);\n",
    ":(2x + $(ex))"
   ]
  },
  {
   "cell_type": "markdown",
   "metadata": {},
   "source": [
    "メタプログラミングにおいては、シンボルは変数などの識別子として使われることがほとんどなので、シンボルのリテラルでなく識別子として補間される方が利便性が高い。シンボルのリテラルとして補間する必要がある場合には、以下のようにQuoteNodeでクォートする。"
   ]
  },
  {
   "cell_type": "code",
   "execution_count": 13,
   "metadata": {},
   "outputs": [
    {
     "data": {
      "text/plain": [
       ":(2x + y)"
      ]
     },
     "execution_count": 13,
     "metadata": {},
     "output_type": "execute_result"
    }
   ],
   "source": [
    "ex = :y;\n",
    ":(2x + $(ex))"
   ]
  },
  {
   "cell_type": "code",
   "execution_count": 14,
   "metadata": {},
   "outputs": [
    {
     "data": {
      "text/plain": [
       ":(2x + :y)"
      ]
     },
     "execution_count": 14,
     "metadata": {},
     "output_type": "execute_result"
    }
   ],
   "source": [
    ":(2x + $(QuoteNode(ex)))"
   ]
  },
  {
   "cell_type": "markdown",
   "metadata": {},
   "source": [
    "### 構文木の評価\n",
    "\n",
    "eval関数で評価(evaluation)できる。評価とは、構文木を実行して結果を得ることである。eval関数は構文木を引数として受け取り、現在のモジュールでその構文木を実行して結果を返す。\n",
    "\n",
    "ただし、評価は常にモジュールのグローバルスコープで行われるので注意する必要がある。例えば、関数の中でeval関数を呼び出し、構文木の評価を行ったとしても、その構文木はローカルスコープにある変数とは干渉しない(二つ目の例)\n",
    "\n",
    "test関数の例では、最初に書かれているx=\"local\"は関数ないのローカル変数を定義しているが、次の行のeval関数に渡されたx=\"global\"はMainモジュールで実行されてグローバル変数xを定義しているので、ローカル変数xを上書きすることはできない。"
   ]
  },
  {
   "cell_type": "code",
   "execution_count": 1,
   "metadata": {},
   "outputs": [
    {
     "data": {
      "text/plain": [
       "21"
      ]
     },
     "execution_count": 1,
     "metadata": {},
     "output_type": "execute_result"
    }
   ],
   "source": [
    "x = 10;\n",
    "eval(:(2x + 1))"
   ]
  },
  {
   "cell_type": "code",
   "execution_count": 3,
   "metadata": {},
   "outputs": [
    {
     "data": {
      "text/plain": [
       "test (generic function with 1 method)"
      ]
     },
     "execution_count": 3,
     "metadata": {},
     "output_type": "execute_result"
    }
   ],
   "source": [
    "function test()\n",
    "    x = \"local\"\n",
    "    eval(:(x = \"global\"))\n",
    "    println(x)\n",
    "end"
   ]
  },
  {
   "cell_type": "code",
   "execution_count": 4,
   "metadata": {},
   "outputs": [
    {
     "name": "stdout",
     "output_type": "stream",
     "text": [
      "local\n"
     ]
    }
   ],
   "source": [
    "test()"
   ]
  },
  {
   "cell_type": "code",
   "execution_count": 5,
   "metadata": {},
   "outputs": [
    {
     "data": {
      "text/plain": [
       "\"global\""
      ]
     },
     "execution_count": 5,
     "metadata": {},
     "output_type": "execute_result"
    }
   ],
   "source": [
    "x"
   ]
  },
  {
   "cell_type": "markdown",
   "metadata": {},
   "source": [
    "eval関数を使用することで、簡単で便利なメタプログラミングが可能になる。例えば、ビットフラグを持つ三つの定数を導入するのにfor文とeval関数を使って評価することが可能になる。"
   ]
  },
  {
   "cell_type": "code",
   "execution_count": 6,
   "metadata": {},
   "outputs": [
    {
     "data": {
      "text/plain": [
       "(0x0001, 0x0002, 0x0004)"
      ]
     },
     "execution_count": 6,
     "metadata": {},
     "output_type": "execute_result"
    }
   ],
   "source": [
    "for (i, name) in enumerate([:A, :B, :C])\n",
    "    eval(:(const $(Symbol(:FLAG_, name))=\n",
    "            $(UInt16(1) << (i-1))\n",
    "    ))\n",
    "end\n",
    "\n",
    "FLAG_A, FLAG_B, FLAG_C"
   ]
  },
  {
   "cell_type": "markdown",
   "metadata": {},
   "source": [
    "eval関数と同様の機能を提供する@evalマクロも、メタプログラミングに便利である。@evalマクロは与えられたコードをクウォートして、その結果をeval関数で評価する。よって、eval関数では必要なクォートを省略できる。"
   ]
  },
  {
   "cell_type": "code",
   "execution_count": 8,
   "metadata": {},
   "outputs": [
    {
     "name": "stderr",
     "output_type": "stream",
     "text": [
      "WARNING: redefinition of constant FLAG_B. This may fail, cause incorrect answers, or produce other errors.\n",
      "WARNING: redefinition of constant FLAG_C. This may fail, cause incorrect answers, or produce other errors.\n"
     ]
    }
   ],
   "source": [
    "for (i, name) in enumerate([:A, :B, :C])\n",
    "    @eval const $(Symbol(:FLAG_, name)) = $(UInt16(i) << (i-1))\n",
    "end"
   ]
  },
  {
   "cell_type": "markdown",
   "metadata": {},
   "source": [
    "### マクロの機能\n",
    "\n",
    "**マクロは、与えられたコードを別のコードに変換してから実行するための仕組みである**。\n",
    "\n",
    "Juliaの重要な機能の一つであり、マクロを使うときは関数のようにマクロを呼び出すが、その構文は関数の呼び出しとは異なり@記号を用いる。\n",
    "\n",
    "展開の結果は@macroexpandマクロを使って確認することができる。これによって、**与えらえれた式にあるマクロ呼び出しを展開して構文木を返す**。例えば、条件が満たされているかを確認する@assertマクロの呼び出しを展開した結果は、以下のようなif文を含む形になる。"
   ]
  },
  {
   "cell_type": "code",
   "execution_count": 9,
   "metadata": {},
   "outputs": [
    {
     "data": {
      "text/plain": [
       ":(if x > 0\n",
       "      nothing\n",
       "  else\n",
       "      Base.throw(Base.AssertionError(\"x > 0\"))\n",
       "  end)"
      ]
     },
     "execution_count": 9,
     "metadata": {},
     "output_type": "execute_result"
    }
   ],
   "source": [
    "@macroexpand @assert x>0"
   ]
  },
  {
   "cell_type": "markdown",
   "metadata": {},
   "source": [
    "マクロ呼び出しの展開は、コンパイルのかなり早い段階で行われる。展開はJuliaのコンパイラがソースコードを構文解析した直後に行われる。よって、**マクロは処理するコードの識別子がどのような型や値になるか全く考慮せずに、構文木のレベルでのみコードの変換を行う**。\n",
    "\n",
    "マクロの呼び出しには@macro(ex1, ex2, ex3)と括弧を用いる呼び出し方と、@macro ex1 ex2 ex3のように括弧を用いない呼び出し方の二つがある。両者は構文解析の仕方が違うだけで機能に差はない。**慣例として、括弧は省略する形式が多い**。\n"
   ]
  },
  {
   "cell_type": "code",
   "execution_count": 11,
   "metadata": {},
   "outputs": [],
   "source": [
    "# @macroはREPLで確認することができる\n",
    "#(@macro x + y) == :(@macro(x + y))"
   ]
  },
  {
   "cell_type": "markdown",
   "metadata": {},
   "source": [
    "普通のコードを受け取るマクロの他に、**文字列のみを受け取るマクロ**も存在する。これらの特殊なマクロは、**非標準文字列リテラル**と呼ばれている。\n",
    "\n",
    "こちらの場合はマクロ名が_strの形で終わり、通常の文字列の前に_strを除いたマクロ名をつけて呼び出せる。"
   ]
  },
  {
   "cell_type": "markdown",
   "metadata": {},
   "source": [
    "### 標準ライブラリにあるマクロ\n",
    "\n",
    "主にJuliaの標準ライブラリで提供されているマクロには、四種類ある。\n",
    "\n",
    "・コンパイラへのヒント：　@inbounds, @inline, @fastmath など\n",
    "\n",
    "・構文の拡張： @assert, @enum, @view など\n",
    "\n",
    "・開発の補助： @less, @time, @code_typed など\n",
    "\n",
    "・特殊なリテラル: @r_str, @big_str など\n",
    "\n",
    "**コンパイラへのヒントになるマクロは、最適化などのヒントになる情報を構文木に特殊なデータを差し込むことでコンパイラへ渡すマクロになる**。@inboundsは、配列要素の参照が配列の有効な範囲に収まることをプログラマが保証するので、実行時に範囲のチェックを省いても良いことになる。@inlineマクロは関数を積極的にインライン化するべきというヒントを与える。@fastmathマクロは浮動小数点の計算に関してIEEE754の制約を超えて最適化することを許可するマクロになる。\n",
    "\n",
    "**構文の拡張のマクロは、プログラマが手で書くには面倒な処理を自動化するマクロになる**。例えば、@assertマクロは与えられた式の条件が成立するかどうかを実行時にチェックして、その条件が成立しないとAssertionError例外を返す。@enumマクロはCのenum構文に相当する機能を提供する。@viewマクロは、X[i,:]などの配列の一部をコピーする構文を、コピーではなくその部分の参照として作るようにする。\n",
    "\n",
    "**開発の補助のマクロは、REPLなどの環境で用いられるマクロになる**。**特殊なリテラルは、非標準文字列リテラルとして機能して、オブジェクトを作るのに使用される**。\n"
   ]
  },
  {
   "cell_type": "markdown",
   "metadata": {},
   "source": [
    "### マクロの定義\n",
    "\n",
    "Juliaでは、関数やデータ型と同様に、ユーザが新しいマクロを定義することができる。マクロの定義にはmacroキーワードを使用する。\n",
    "\n",
    "例えば、計算式の最後に+1を付与するだけの@plus1マクロを定義する。試しに構文木の補間を使って、以下のように定義する。"
   ]
  },
  {
   "cell_type": "code",
   "execution_count": 18,
   "metadata": {},
   "outputs": [
    {
     "data": {
      "text/plain": [
       "@plus1 (macro with 1 method)"
      ]
     },
     "execution_count": 18,
     "metadata": {},
     "output_type": "execute_result"
    }
   ],
   "source": [
    "macro plus1(ex)\n",
    "    :($(ex) + 1)\n",
    "end"
   ]
  },
  {
   "cell_type": "code",
   "execution_count": 19,
   "metadata": {},
   "outputs": [
    {
     "data": {
      "text/plain": [
       ":(2 * Main.x + 1)"
      ]
     },
     "execution_count": 19,
     "metadata": {},
     "output_type": "execute_result"
    }
   ],
   "source": [
    "# xはMainモジュールのグローバル変数xになっていることに注意すること\n",
    "@macroexpand @plus1 2x"
   ]
  },
  {
   "cell_type": "markdown",
   "metadata": {},
   "source": [
    "上記のようにグローバル変数にしたくない場合は、**esc関数を使うことで識別子がグローバル変数に変換されないようにすることができる**。"
   ]
  },
  {
   "cell_type": "code",
   "execution_count": 22,
   "metadata": {},
   "outputs": [
    {
     "data": {
      "text/plain": [
       "@plus1 (macro with 1 method)"
      ]
     },
     "execution_count": 22,
     "metadata": {},
     "output_type": "execute_result"
    }
   ],
   "source": [
    "macro plus1(ex)\n",
    "    :($(esc(ex)) + 1)\n",
    "end    "
   ]
  },
  {
   "cell_type": "code",
   "execution_count": 23,
   "metadata": {},
   "outputs": [
    {
     "data": {
      "text/plain": [
       ":(2x + 1)"
      ]
     },
     "execution_count": 23,
     "metadata": {},
     "output_type": "execute_result"
    }
   ],
   "source": [
    "@macroexpand @plus1 2x"
   ]
  },
  {
   "cell_type": "markdown",
   "metadata": {},
   "source": [
    "### 識別子の変換規則\n",
    "\n",
    "マクロ展開では、識別子はグローバル変数に変換されるのがデフォルトの動作だったが、ローカル変数に変換される例外もある。例えば、\n",
    "\n",
    "・global宣言なしで代入されたとき\n",
    "\n",
    "・local宣言があるとき\n",
    "\n",
    "・関数定義の引数があるとき\n",
    "\n",
    "例えば、マクロが返す構文木にx=0があれば変数xはローカル変数となる。また、local xとしてる場合も同様にローカル変数として扱われる。\n",
    "\n",
    "また、**ローカル変数と解釈された識別子は、マクロ展開時に新しい変数に置き換えられる**。これはマクロ呼び出し側にある別の識別子との衝突を避けるためでもある。このようなマクロ展開のやり方を**衛生的(hygienic)マクロ**と呼ぶ。実際にコードの実行時間をns秒単位で計測する@time_nsマクロを定義して効果を確認してみる。"
   ]
  },
  {
   "cell_type": "code",
   "execution_count": 24,
   "metadata": {},
   "outputs": [
    {
     "data": {
      "text/plain": [
       "@time_ns (macro with 1 method)"
      ]
     },
     "execution_count": 24,
     "metadata": {},
     "output_type": "execute_result"
    }
   ],
   "source": [
    "macro time_ns(ex)\n",
    "    quote\n",
    "        t1 = time_ns()\n",
    "        val = $(esc(ex))\n",
    "        t2 = time_ns()\n",
    "        val, Int(t2-t1)\n",
    "    end\n",
    "end"
   ]
  },
  {
   "cell_type": "code",
   "execution_count": 25,
   "metadata": {},
   "outputs": [
    {
     "data": {
      "text/plain": [
       "(-11.421643460216425, 153443583)"
      ]
     },
     "execution_count": 25,
     "metadata": {},
     "output_type": "execute_result"
    }
   ],
   "source": [
    "# 計算結果と実行時間のタプルを返す\n",
    "# 2回目以降は計算が高速になる\n",
    "@time_ns sum(randn(1000))"
   ]
  },
  {
   "cell_type": "code",
   "execution_count": 26,
   "metadata": {},
   "outputs": [
    {
     "data": {
      "text/plain": [
       "(41.67640484189498, 54458)"
      ]
     },
     "execution_count": 26,
     "metadata": {},
     "output_type": "execute_result"
    }
   ],
   "source": [
    "@time_ns sum(randn(1000))"
   ]
  },
  {
   "cell_type": "markdown",
   "metadata": {},
   "source": [
    "もし、時間を計測したいコードexにt1 = ...のような代入があった場合、どうなるか。衛生的マクロではなく、ローカル変数をそのまま維持するマクロだったとしたら、マクロ定義ないのローカル変数t1 = time_ns()の結果を上書きしてしまう。こうなると、目的の時間計測が不可能になってしまう。\n",
    "\n",
    "マクロ定義中のt1, t2, valはglobal宣言なしで代入されているので、ローカル変数と解釈される。衛生的マクロでは、これらのローカル変数は\\#10\\#t1などの奇妙な名前の新しいローカル変数に置換される。結果的にローカル変数は衝突しない。"
   ]
  },
  {
   "cell_type": "code",
   "execution_count": 27,
   "metadata": {},
   "outputs": [
    {
     "data": {
      "text/plain": [
       "quote\n",
       "    #= In[24]:3 =#\n",
       "    var\"#9#t1\" = Main.time_ns()\n",
       "    #= In[24]:4 =#\n",
       "    var\"#10#val\" = sum(randn(1000))\n",
       "    #= In[24]:5 =#\n",
       "    var\"#11#t2\" = Main.time_ns()\n",
       "    #= In[24]:6 =#\n",
       "    (var\"#10#val\", Main.Int(var\"#11#t2\" - var\"#9#t1\"))\n",
       "end"
      ]
     },
     "execution_count": 27,
     "metadata": {},
     "output_type": "execute_result"
    }
   ],
   "source": [
    "@macroexpand @time_ns sum(randn(1000))"
   ]
  },
  {
   "cell_type": "markdown",
   "metadata": {},
   "source": [
    "まとめると、マクロ内の識別子がいつどのように変換されるか、あるいは変換されないかをまとめて確認する。マクロが返す構文木やリテラルに含まれる識別子は次のいずれかの経路を辿る。\n",
    "\n",
    "```\n",
    "・esc関数でエスケープされていれば、識別子は変換されずそのまま維持される\n",
    "\n",
    "・代入、local宣言、関数引数のいずれかであれば、新しいローカル変数が生成される。\n",
    "\n",
    "・上記のどれにも当てはまらない場合、マクロを定義したモジュールのグローバル変数に変換される。\n",
    "```"
   ]
  },
  {
   "cell_type": "markdown",
   "metadata": {},
   "source": [
    "## 外部プログラムの呼び出し\n",
    "\n",
    "### コマンドの作成・実行\n",
    "\n",
    "Juliaで外部プログラムを使用するには、PerlやRubyと同様にバッククォート記号を用いる。例えば、\\`ls\\`とする"
   ]
  },
  {
   "cell_type": "code",
   "execution_count": 4,
   "metadata": {},
   "outputs": [
    {
     "name": "stdout",
     "output_type": "stream",
     "text": [
      "Introduction1.ipynb\n",
      "Introduction2.ipynb\n",
      "Introduction3.ipynb\n",
      "Introduction4.ipynb\n",
      "README.md\n",
      "sample.jl\n"
     ]
    },
    {
     "data": {
      "text/plain": [
       "Process(`\u001b[4mls\u001b[24m`, ProcessExited(0))"
      ]
     },
     "execution_count": 4,
     "metadata": {},
     "output_type": "execute_result"
    }
   ],
   "source": [
    "# REPLと異なり、jupyter上ではrunの中にコマンドを入れる必要性がある\n",
    "run(`ls`)"
   ]
  },
  {
   "cell_type": "code",
   "execution_count": 38,
   "metadata": {},
   "outputs": [
    {
     "data": {
      "text/plain": [
       "\"Introduction1.ipynb\\nIntroduction2.ipynb\\nIntroduction3.ipynb\\nIntroduction4.ipynb\\nREADME.md\\nsample.jl\\n\""
      ]
     },
     "execution_count": 38,
     "metadata": {},
     "output_type": "execute_result"
    }
   ],
   "source": [
    "# コマンドの標準出力を得る場合にはread関数を使うのが良い\n",
    "read(`ls`, String)"
   ]
  },
  {
   "cell_type": "markdown",
   "metadata": {},
   "source": [
    "また、eachline関数を使って標準出力を業ごとに処理できる。Cmd型のオブジェクトは他の関数と組み合わせて使用できるので柔軟性が高い。"
   ]
  },
  {
   "cell_type": "code",
   "execution_count": 39,
   "metadata": {},
   "outputs": [
    {
     "name": "stdout",
     "output_type": "stream",
     "text": [
      "line = \"./sample.jl\"\n",
      "line = \"./README.md\"\n",
      "line = \"./Introduction4.ipynb\"\n",
      "line = \"./.gitignore\"\n",
      "line = \"./Introduction2.ipynb\"\n",
      "line = \"./.ipynb_checkpoints/Introduction4-checkpoint.ipynb\"\n",
      "line = \"./.ipynb_checkpoints/Introduction1-checkpoint.ipynb\"\n",
      "line = \"./.ipynb_checkpoints/Introduction2-checkpoint.ipynb\"\n",
      "line = \"./.ipynb_checkpoints/Introduction3-checkpoint.ipynb\"\n",
      "line = \"./.git/config\"\n",
      "line = \"./.git/objects/0d/9f3df8c2ec4624a8271f125acda0aaf5bad8e4\"\n",
      "line = \"./.git/objects/95/33569d32c86e02724d4d2fd1990e80b3e8f804\"\n",
      "line = \"./.git/objects/50/c88d404d83f6e6249e9049aca33c0cb399e5c1\"\n",
      "line = \"./.git/objects/69/fd7671cc2569d268c1169c8eb604a5d2308592\"\n",
      "line = \"./.git/objects/0b/11152410238d591fb4d7d8d441a17768b55756\"\n",
      "line = \"./.git/objects/34/07b032a599848ac7149011187e30e1188a831b\"\n",
      "line = \"./.git/objects/02/5ff62e1506d770113fb20beebe13583cbee476\"\n",
      "line = \"./.git/objects/ae/a4cc931074a3a41701b01f322f1d71c133377f\"\n",
      "line = \"./.git/objects/ca/147d92e41c421c8ea99a2de805f81b55e1e6ab\"\n",
      "line = \"./.git/objects/pack/pack-1163b6e1582da3b19e5dbb19522014b2f829203d.idx\"\n",
      "line = \"./.git/objects/pack/pack-1163b6e1582da3b19e5dbb19522014b2f829203d.pack\"\n",
      "line = \"./.git/objects/7b/2d01969c9e0cbd59482decae7e2ce6feb08ba3\"\n",
      "line = \"./.git/objects/8a/9981586ddf84ebbe3c999dce1150a812613964\"\n",
      "line = \"./.git/objects/2a/a8a148544bfb69b4e9079a67d23a107d087c5d\"\n",
      "line = \"./.git/objects/36/28edecb5c26e3dbff4aa2baa874ed6dd115826\"\n",
      "line = \"./.git/objects/54/f81ca672d8bf47e03dbe61f2e75a314dc1e392\"\n",
      "line = \"./.git/objects/6d/76333f137a16c346f394e18f153411f0354ab6\"\n",
      "line = \"./.git/objects/64/4d29f0a7f9bce749445cee4a9fb3f442baed71\"\n",
      "line = \"./.git/objects/bf/7be6aceb28ab3a35ae22c82ba71fa04b2a097b\"\n",
      "line = \"./.git/objects/b8/88aa4353129f1f13fa5583ba908aec89262353\"\n",
      "line = \"./.git/objects/b0/3051ec979f9ac53293d9779dc12dff584b7d8b\"\n",
      "line = \"./.git/objects/e6/9de29bb2d1d6434b8b29ae775ad8c2e48c5391\"\n",
      "line = \"./.git/objects/f8/60dce5d489d3730a8c4cf3c0e70283aa45858b\"\n",
      "line = \"./.git/objects/ce/4f95fe8e0c8e8f1faa60bafb2af721b5dce30c\"\n",
      "line = \"./.git/objects/22/f6817646761761b4d55377dacb17f202d602fe\"\n",
      "line = \"./.git/HEAD\"\n",
      "line = \"./.git/info/exclude\"\n",
      "line = \"./.git/logs/HEAD\"\n",
      "line = \"./.git/logs/refs/heads/main\"\n",
      "line = \"./.git/logs/refs/remotes/origin/HEAD\"\n",
      "line = \"./.git/logs/refs/remotes/origin/main\"\n",
      "line = \"./.git/description\"\n",
      "line = \"./.git/hooks/commit-msg.sample\"\n",
      "line = \"./.git/hooks/pre-rebase.sample\"\n",
      "line = \"./.git/hooks/pre-commit.sample\"\n",
      "line = \"./.git/hooks/applypatch-msg.sample\"\n",
      "line = \"./.git/hooks/fsmonitor-watchman.sample\"\n",
      "line = \"./.git/hooks/pre-receive.sample\"\n",
      "line = \"./.git/hooks/prepare-commit-msg.sample\"\n",
      "line = \"./.git/hooks/post-update.sample\"\n",
      "line = \"./.git/hooks/pre-merge-commit.sample\"\n",
      "line = \"./.git/hooks/pre-applypatch.sample\"\n",
      "line = \"./.git/hooks/pre-push.sample\"\n",
      "line = \"./.git/hooks/update.sample\"\n",
      "line = \"./.git/hooks/push-to-checkout.sample\"\n",
      "line = \"./.git/refs/heads/main\"\n",
      "line = \"./.git/refs/remotes/origin/HEAD\"\n",
      "line = \"./.git/refs/remotes/origin/main\"\n",
      "line = \"./.git/index\"\n",
      "line = \"./.git/packed-refs\"\n",
      "line = \"./.git/COMMIT_EDITMSG\"\n",
      "line = \"./Introduction3.ipynb\"\n",
      "line = \"./Introduction1.ipynb\"\n"
     ]
    }
   ],
   "source": [
    "for line in eachline(`find . -type f`)\n",
    "    @show line\n",
    "end"
   ]
  },
  {
   "cell_type": "markdown",
   "metadata": {},
   "source": [
    "コマンドのプロセスからデータを受け取るだけでなく、プロセスに対してJuliaからデータを渡すことも可能である。\n",
    "\n",
    "例えば起動したプロセスの標準入力に対して書き込みを行たい場合、次のようにopen関数を使うことで書き込むことができる。"
   ]
  },
  {
   "cell_type": "code",
   "execution_count": 41,
   "metadata": {},
   "outputs": [
    {
     "name": "stdout",
     "output_type": "stream",
     "text": [
      "      10\n"
     ]
    }
   ],
   "source": [
    "open(`wc -l`, \"w\", stdout) do output\n",
    "    for _ in 1:10\n",
    "        println(output, \"hi!\")\n",
    "    end\n",
    "end"
   ]
  },
  {
   "cell_type": "markdown",
   "metadata": {},
   "source": [
    "### コマンド実行の注意点\n",
    "\n",
    "Juliaのコマンドは、一般的なシェルを経由せずに実行される。よって、パターンマッチに使われる*やパイプライン処理|はそのままコマンドの引数として扱われるので、bashなどのシェルとは異なった動作をする。\n",
    "\n",
    "シェルの機能が必要な場合には、明示的にシェルを執行できる。POSIXに準拠しているbashコマンドには-cオプションがあるので、これに実行したいコマンドの文字列を渡すと、シェルを経由してコマンドを実行することができる(ローカルのMACはbashを入れてないので実行できないので注意汗)。\n",
    "\n",
    "また、パイプライン処理(pipeline)は複数コマンドの入力と出力を接続する機能である。"
   ]
  },
  {
   "cell_type": "code",
   "execution_count": 5,
   "metadata": {},
   "outputs": [
    {
     "name": "stdout",
     "output_type": "stream",
     "text": [
      "Introduction1.ipynb\n",
      "Introduction2.ipynb\n",
      "Introduction3.ipynb\n",
      "Introduction4.ipynb\n",
      "README.md\n",
      "sample.jl\n"
     ]
    },
    {
     "data": {
      "text/plain": [
       "Process(`\u001b[4mls\u001b[24m`, ProcessExited(0))"
      ]
     },
     "execution_count": 5,
     "metadata": {},
     "output_type": "execute_result"
    }
   ],
   "source": [
    "#run(`bash -c 'ls *.txt'`)"
   ]
  },
  {
   "cell_type": "code",
   "execution_count": null,
   "metadata": {},
   "outputs": [],
   "source": []
  },
  {
   "cell_type": "code",
   "execution_count": null,
   "metadata": {},
   "outputs": [],
   "source": []
  },
  {
   "cell_type": "code",
   "execution_count": null,
   "metadata": {},
   "outputs": [],
   "source": []
  },
  {
   "cell_type": "code",
   "execution_count": null,
   "metadata": {},
   "outputs": [],
   "source": []
  },
  {
   "cell_type": "code",
   "execution_count": null,
   "metadata": {},
   "outputs": [],
   "source": []
  },
  {
   "cell_type": "code",
   "execution_count": null,
   "metadata": {},
   "outputs": [],
   "source": []
  }
 ],
 "metadata": {
  "kernelspec": {
   "display_name": "Julia 1.5.3",
   "language": "julia",
   "name": "julia-1.5"
  },
  "language_info": {
   "file_extension": ".jl",
   "mimetype": "application/julia",
   "name": "julia",
   "version": "1.5.3"
  }
 },
 "nbformat": 4,
 "nbformat_minor": 2
}
